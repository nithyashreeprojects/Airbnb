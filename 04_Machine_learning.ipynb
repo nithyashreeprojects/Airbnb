{
 "cells": [
  {
   "cell_type": "markdown",
   "id": "837b067a",
   "metadata": {},
   "source": [
    "#### **MACHINE LEARNING WITH CATBOOST**"
   ]
  },
  {
   "cell_type": "markdown",
   "id": "f4bd9b51",
   "metadata": {},
   "source": [
    "**IMPORT LIBRARIES**"
   ]
  },
  {
   "cell_type": "code",
   "execution_count": 14,
   "id": "64bf81cf",
   "metadata": {},
   "outputs": [],
   "source": [
    "import numpy as np\n",
    "import pandas as pd\n",
    "import matplotlib.pyplot as plt\n",
    "import seaborn as sns\n",
    "from catboost import CatBoostRegressor, CatBoostClassifier, Pool \n",
    "from sklearn.model_selection import train_test_split\n",
    "from sklearn.metrics import mean_absolute_error, mean_squared_error, confusion_matrix, r2_score\n",
    "import warnings\n",
    "warnings.filterwarnings('ignore')"
   ]
  },
  {
   "cell_type": "code",
   "execution_count": 2,
   "id": "598255c5",
   "metadata": {},
   "outputs": [
    {
     "name": "stdout",
     "output_type": "stream",
     "text": [
      "\n",
      "TOTAL NUMBER OF ROWS: 50304\n",
      "\n",
      "COLUMNS: ['name', 'host_identity_verified', 'host_name', 'neighbourhood_group', 'neighbourhood', 'lat', 'long', 'country', 'country_code', 'instant_bookable', 'cancellation_policy', 'room_type', 'construction_year', 'price', 'service_fee', 'minimum_nights', 'number_of_reviews', 'last_review', 'reviews_per_month', 'review_rate_number', 'calculated_host_listings_count', 'availability_365', 'license', 'missing_location', 'year', 'month', 'day', 'day_of_week', 'day_name', 'quarter', 'week_of_year', 'season', 'is_peak_season', 'is_weekend', 'review_frequency_category', 'demand_score', 'demand_level', 'price_tier', 'value_score', 'value_category', 'stay_length_category', 'flexibility_score']\n"
     ]
    },
    {
     "data": {
      "text/html": [
       "<div>\n",
       "<style scoped>\n",
       "    .dataframe tbody tr th:only-of-type {\n",
       "        vertical-align: middle;\n",
       "    }\n",
       "\n",
       "    .dataframe tbody tr th {\n",
       "        vertical-align: top;\n",
       "    }\n",
       "\n",
       "    .dataframe thead th {\n",
       "        text-align: right;\n",
       "    }\n",
       "</style>\n",
       "<table border=\"1\" class=\"dataframe\">\n",
       "  <thead>\n",
       "    <tr style=\"text-align: right;\">\n",
       "      <th></th>\n",
       "      <th>name</th>\n",
       "      <th>host_identity_verified</th>\n",
       "      <th>host_name</th>\n",
       "      <th>neighbourhood_group</th>\n",
       "      <th>neighbourhood</th>\n",
       "      <th>lat</th>\n",
       "      <th>long</th>\n",
       "      <th>country</th>\n",
       "      <th>country_code</th>\n",
       "      <th>instant_bookable</th>\n",
       "      <th>...</th>\n",
       "      <th>is_peak_season</th>\n",
       "      <th>is_weekend</th>\n",
       "      <th>review_frequency_category</th>\n",
       "      <th>demand_score</th>\n",
       "      <th>demand_level</th>\n",
       "      <th>price_tier</th>\n",
       "      <th>value_score</th>\n",
       "      <th>value_category</th>\n",
       "      <th>stay_length_category</th>\n",
       "      <th>flexibility_score</th>\n",
       "    </tr>\n",
       "  </thead>\n",
       "  <tbody>\n",
       "    <tr>\n",
       "      <th>0</th>\n",
       "      <td>Clean &amp; quiet apt home by the park</td>\n",
       "      <td>Unconfirmed</td>\n",
       "      <td>Madaline</td>\n",
       "      <td>Brooklyn</td>\n",
       "      <td>Kensington</td>\n",
       "      <td>40.64749</td>\n",
       "      <td>-73.97237</td>\n",
       "      <td>United States</td>\n",
       "      <td>US</td>\n",
       "      <td>False</td>\n",
       "      <td>...</td>\n",
       "      <td>0</td>\n",
       "      <td>0</td>\n",
       "      <td>Low</td>\n",
       "      <td>40.0</td>\n",
       "      <td>Medium</td>\n",
       "      <td>Luxury</td>\n",
       "      <td>0.02</td>\n",
       "      <td>Low Value</td>\n",
       "      <td>Monthly</td>\n",
       "      <td>4.0</td>\n",
       "    </tr>\n",
       "    <tr>\n",
       "      <th>1</th>\n",
       "      <td>Skylit Midtown Castle</td>\n",
       "      <td>Verified</td>\n",
       "      <td>Jenna</td>\n",
       "      <td>Manhattan</td>\n",
       "      <td>Midtown</td>\n",
       "      <td>40.75362</td>\n",
       "      <td>-73.98377</td>\n",
       "      <td>United States</td>\n",
       "      <td>US</td>\n",
       "      <td>False</td>\n",
       "      <td>...</td>\n",
       "      <td>0</td>\n",
       "      <td>1</td>\n",
       "      <td>Medium</td>\n",
       "      <td>40.0</td>\n",
       "      <td>Medium</td>\n",
       "      <td>Budget</td>\n",
       "      <td>0.27</td>\n",
       "      <td>Good Value</td>\n",
       "      <td>Monthly</td>\n",
       "      <td>4.0</td>\n",
       "    </tr>\n",
       "    <tr>\n",
       "      <th>2</th>\n",
       "      <td>Entire Apt: Spacious Studio/Loft by central park</td>\n",
       "      <td>Verified</td>\n",
       "      <td>Lyndon</td>\n",
       "      <td>Manhattan</td>\n",
       "      <td>East Harlem</td>\n",
       "      <td>40.79851</td>\n",
       "      <td>-73.94399</td>\n",
       "      <td>United States</td>\n",
       "      <td>US</td>\n",
       "      <td>False</td>\n",
       "      <td>...</td>\n",
       "      <td>0</td>\n",
       "      <td>0</td>\n",
       "      <td>Low</td>\n",
       "      <td>20.0</td>\n",
       "      <td>Low</td>\n",
       "      <td>Budget</td>\n",
       "      <td>0.05</td>\n",
       "      <td>Low Value</td>\n",
       "      <td>Monthly</td>\n",
       "      <td>4.0</td>\n",
       "    </tr>\n",
       "    <tr>\n",
       "      <th>3</th>\n",
       "      <td>Large Cozy 1 BR Apartment In Midtown East</td>\n",
       "      <td>Verified</td>\n",
       "      <td>Michelle</td>\n",
       "      <td>Manhattan</td>\n",
       "      <td>Murray Hill</td>\n",
       "      <td>40.74767</td>\n",
       "      <td>-73.97500</td>\n",
       "      <td>United States</td>\n",
       "      <td>US</td>\n",
       "      <td>True</td>\n",
       "      <td>...</td>\n",
       "      <td>1</td>\n",
       "      <td>1</td>\n",
       "      <td>Medium</td>\n",
       "      <td>60.0</td>\n",
       "      <td>High</td>\n",
       "      <td>Mid-Range</td>\n",
       "      <td>0.10</td>\n",
       "      <td>Good Value</td>\n",
       "      <td>Weekly</td>\n",
       "      <td>7.0</td>\n",
       "    </tr>\n",
       "    <tr>\n",
       "      <th>4</th>\n",
       "      <td>Large Furnished Room Near B'way</td>\n",
       "      <td>Verified</td>\n",
       "      <td>Evelyn</td>\n",
       "      <td>Manhattan</td>\n",
       "      <td>Hell'S Kitchen</td>\n",
       "      <td>40.76489</td>\n",
       "      <td>-73.98493</td>\n",
       "      <td>United States</td>\n",
       "      <td>US</td>\n",
       "      <td>True</td>\n",
       "      <td>...</td>\n",
       "      <td>1</td>\n",
       "      <td>0</td>\n",
       "      <td>Very High</td>\n",
       "      <td>100.0</td>\n",
       "      <td>Very High</td>\n",
       "      <td>Luxury</td>\n",
       "      <td>0.34</td>\n",
       "      <td>Excellent Value</td>\n",
       "      <td>Weekly</td>\n",
       "      <td>7.0</td>\n",
       "    </tr>\n",
       "  </tbody>\n",
       "</table>\n",
       "<p>5 rows × 42 columns</p>\n",
       "</div>"
      ],
      "text/plain": [
       "                                               name host_identity_verified  \\\n",
       "0                Clean & quiet apt home by the park            Unconfirmed   \n",
       "1                             Skylit Midtown Castle               Verified   \n",
       "2  Entire Apt: Spacious Studio/Loft by central park               Verified   \n",
       "3         Large Cozy 1 BR Apartment In Midtown East               Verified   \n",
       "4                   Large Furnished Room Near B'way               Verified   \n",
       "\n",
       "  host_name neighbourhood_group   neighbourhood       lat      long  \\\n",
       "0  Madaline            Brooklyn      Kensington  40.64749 -73.97237   \n",
       "1     Jenna           Manhattan         Midtown  40.75362 -73.98377   \n",
       "2    Lyndon           Manhattan     East Harlem  40.79851 -73.94399   \n",
       "3  Michelle           Manhattan     Murray Hill  40.74767 -73.97500   \n",
       "4    Evelyn           Manhattan  Hell'S Kitchen  40.76489 -73.98493   \n",
       "\n",
       "         country country_code  instant_bookable  ... is_peak_season  \\\n",
       "0  United States           US             False  ...              0   \n",
       "1  United States           US             False  ...              0   \n",
       "2  United States           US             False  ...              0   \n",
       "3  United States           US              True  ...              1   \n",
       "4  United States           US              True  ...              1   \n",
       "\n",
       "  is_weekend  review_frequency_category  demand_score  demand_level  \\\n",
       "0          0                        Low          40.0        Medium   \n",
       "1          1                     Medium          40.0        Medium   \n",
       "2          0                        Low          20.0           Low   \n",
       "3          1                     Medium          60.0          High   \n",
       "4          0                  Very High         100.0     Very High   \n",
       "\n",
       "   price_tier  value_score   value_category  stay_length_category  \\\n",
       "0      Luxury         0.02        Low Value               Monthly   \n",
       "1      Budget         0.27       Good Value               Monthly   \n",
       "2      Budget         0.05        Low Value               Monthly   \n",
       "3   Mid-Range         0.10       Good Value                Weekly   \n",
       "4      Luxury         0.34  Excellent Value                Weekly   \n",
       "\n",
       "   flexibility_score  \n",
       "0                4.0  \n",
       "1                4.0  \n",
       "2                4.0  \n",
       "3                7.0  \n",
       "4                7.0  \n",
       "\n",
       "[5 rows x 42 columns]"
      ]
     },
     "execution_count": 2,
     "metadata": {},
     "output_type": "execute_result"
    }
   ],
   "source": [
    "df=pd.read_csv('engineered_data_for_eda.csv')\n",
    "print(f\"\\nTOTAL NUMBER OF ROWS: {len(df)}\")\n",
    "print(f\"\\nCOLUMNS: {df.columns.tolist()}\")\n",
    "df.head()"
   ]
  },
  {
   "cell_type": "markdown",
   "id": "b58ce62d",
   "metadata": {},
   "source": [
    "**SET TARGETS AND FEATURES**"
   ]
  },
  {
   "cell_type": "code",
   "execution_count": 3,
   "id": "802da335",
   "metadata": {},
   "outputs": [],
   "source": [
    "target = 'reviews_per_month'"
   ]
  },
  {
   "cell_type": "code",
   "execution_count": 4,
   "id": "3520c108",
   "metadata": {},
   "outputs": [],
   "source": [
    "exclude_cols = ['name','host_name',\n",
    "                'last_review', 'reviews_per_month','demand_score',\n",
    "                'review_frequency_category','demand_level',\n",
    "                'number_of_reviews','lat','long']"
   ]
  },
  {
   "cell_type": "code",
   "execution_count": 5,
   "id": "562e153d",
   "metadata": {},
   "outputs": [],
   "source": [
    "feature_cols = [col for col in df.columns if col not in exclude_cols]"
   ]
  },
  {
   "cell_type": "code",
   "execution_count": 6,
   "id": "0da92878",
   "metadata": {},
   "outputs": [],
   "source": [
    "categorical_features = [\n",
    "    'host_identity_verified', 'neighbourhood_group', 'neighbourhood',\n",
    "    'country', 'country_code', 'instant_bookable', 'cancellation_policy',\n",
    "    'room_type', 'service_fee', 'license',\n",
    "    'season', 'day_name', 'price_tier', 'value_category', 'stay_length_category'\n",
    "]"
   ]
  },
  {
   "cell_type": "code",
   "execution_count": 7,
   "id": "ec694dd0",
   "metadata": {},
   "outputs": [
    {
     "name": "stdout",
     "output_type": "stream",
     "text": [
      "\n",
      "TARGET VARIABLE: reviews_per_month\n",
      "\n",
      "FEATURE COUNT: 32\n",
      " -> categorical features: 15\n",
      " -> numerical features: 17\n",
      "\n",
      "CATEGORICAL FEATURES: \n",
      " -> host_identity_verified\n",
      " -> neighbourhood_group\n",
      " -> neighbourhood\n",
      " -> country\n",
      " -> country_code\n",
      " -> instant_bookable\n",
      " -> cancellation_policy\n",
      " -> room_type\n",
      " -> service_fee\n",
      " -> license\n",
      " -> season\n",
      " -> day_name\n",
      " -> price_tier\n",
      " -> value_category\n",
      " -> stay_length_category\n"
     ]
    }
   ],
   "source": [
    "categorical_features= [col for col in categorical_features if col in feature_cols]\n",
    "print(f\"\\nTARGET VARIABLE: {target}\")\n",
    "print(f\"\\nFEATURE COUNT: {len(feature_cols)}\")\n",
    "print(f\" -> categorical features: {len(categorical_features)}\")\n",
    "print(f\" -> numerical features: {len(feature_cols) - len(categorical_features)}\")\n",
    "print(f\"\\nCATEGORICAL FEATURES: \")\n",
    "for cat in categorical_features:\n",
    "    print(f\" -> {cat}\")"
   ]
  },
  {
   "cell_type": "markdown",
   "id": "6723cbac",
   "metadata": {},
   "source": [
    "**SPLIT DATA**"
   ]
  },
  {
   "cell_type": "code",
   "execution_count": 8,
   "id": "19dbcd0c",
   "metadata": {},
   "outputs": [],
   "source": [
    "# Prepare X (features) and y (target)\n",
    "\n",
    "X = df[feature_cols].copy()\n",
    "y = df[target].copy()\n",
    "\n",
    "# Train/test split (80/20)\n",
    "\n",
    "X_train, X_test, y_train, y_test = train_test_split(\n",
    "                X, y, test_size=0.2, random_state=42\n",
    ")"
   ]
  },
  {
   "cell_type": "code",
   "execution_count": 9,
   "id": "aa0311be",
   "metadata": {},
   "outputs": [
    {
     "name": "stdout",
     "output_type": "stream",
     "text": [
      "CATEGORICAL FEATURES CONVERTED TO STRING TYPE\n"
     ]
    }
   ],
   "source": [
    "# CONVERT CATEGORICAL FEATURES TO STRING TYPE\n",
    "\n",
    "for col in categorical_features:\n",
    "    if col in X_train.columns:\n",
    "        X_train[col] = X_train[col].astype(str)\n",
    "        X_test[col] = X_test[col].astype(str)\n",
    "\n",
    "\n",
    "print(\"CATEGORICAL FEATURES CONVERTED TO STRING TYPE\")"
   ]
  },
  {
   "cell_type": "code",
   "execution_count": 10,
   "id": "6aafc92d",
   "metadata": {},
   "outputs": [
    {
     "name": "stdout",
     "output_type": "stream",
     "text": [
      "\n",
      "DATA SPLIT COMPLETE: \n",
      " -> Training set: 40,243 rows (80.0%)\n",
      " -> Test set: 10,061 rows (20.0%)\n",
      " -> Features: 32\n",
      " -> Target: reviews_per_month\n",
      "\n",
      "TARGET DISTRIBUTION: \n",
      " -> Train mean: 1.39\n",
      " -> Test mean: 1.34\n"
     ]
    }
   ],
   "source": [
    "print(f\"\\nDATA SPLIT COMPLETE: \")\n",
    "print(f\" -> Training set: {len(X_train):,} rows ({len(X_train)/len(X)*100:.1f}%)\")\n",
    "print(f\" -> Test set: {len(X_test):,} rows ({len(X_test)/len(X)*100:.1f}%)\")\n",
    "print(f\" -> Features: {len(feature_cols)}\")\n",
    "print(f\" -> Target: {target}\")\n",
    "\n",
    "print(\"\\nTARGET DISTRIBUTION: \")\n",
    "print(f\" -> Train mean: {y_train.mean():.2f}\")\n",
    "print(f\" -> Test mean: {y_test.mean():.2f}\")"
   ]
  },
  {
   "cell_type": "markdown",
   "id": "af761931",
   "metadata": {},
   "source": [
    "**TRAIN CatBoost MODEL**"
   ]
  },
  {
   "cell_type": "code",
   "execution_count": 11,
   "id": "830924d6",
   "metadata": {},
   "outputs": [],
   "source": [
    "# INITIALISE CATBOOST REGRESSOR\n",
    "\n",
    "model = CatBoostRegressor(\n",
    "    iterations = 500,\n",
    "    learning_rate = 0.1,\n",
    "    depth = 6,\n",
    "    loss_function = 'RMSE',\n",
    "    cat_features = categorical_features,\n",
    "    random_seed= 42,\n",
    "    verbose = 100\n",
    ")"
   ]
  },
  {
   "cell_type": "code",
   "execution_count": 12,
   "id": "1fc566c1",
   "metadata": {},
   "outputs": [
    {
     "name": "stdout",
     "output_type": "stream",
     "text": [
      "\n",
      " Training CatBoost model...\n",
      "0:\tlearn: 1.4478808\ttest: 1.4033117\tbest: 1.4033117 (0)\ttotal: 87.4ms\tremaining: 43.6s\n",
      "100:\tlearn: 0.0963056\ttest: 0.0990937\tbest: 0.0990937 (100)\ttotal: 4.08s\tremaining: 16.1s\n",
      "200:\tlearn: 0.0623652\ttest: 0.0697968\tbest: 0.0697968 (200)\ttotal: 8.56s\tremaining: 12.7s\n",
      "300:\tlearn: 0.0535294\ttest: 0.0628802\tbest: 0.0628672 (299)\ttotal: 12.2s\tremaining: 8.09s\n",
      "400:\tlearn: 0.0477111\ttest: 0.0583725\tbest: 0.0583725 (400)\ttotal: 15.9s\tremaining: 3.92s\n",
      "499:\tlearn: 0.0426968\ttest: 0.0547815\tbest: 0.0547815 (499)\ttotal: 19.2s\tremaining: 0us\n",
      "\n",
      "bestTest = 0.05478145214\n",
      "bestIteration = 499\n",
      "\n",
      "\n",
      "MODEL TRAINING COMPLETE !!!\n"
     ]
    }
   ],
   "source": [
    "# TRAIN THE MODEL\n",
    "\n",
    "print(\"\\n Training CatBoost model...\")\n",
    "model.fit(\n",
    "    X_train, y_train,\n",
    "    eval_set=(X_test, y_test),\n",
    "    use_best_model=True,\n",
    "    early_stopping_rounds=50\n",
    ")\n",
    "\n",
    "print(\"\\nMODEL TRAINING COMPLETE !!!\")"
   ]
  },
  {
   "cell_type": "markdown",
   "id": "6d26acc4",
   "metadata": {},
   "source": [
    "**EVALUATE MODEL PERFORMANCE**"
   ]
  },
  {
   "cell_type": "code",
   "execution_count": 15,
   "id": "faf71bfe",
   "metadata": {},
   "outputs": [],
   "source": [
    "# Make predictions\n",
    "y_pred_train = model.predict(X_train)\n",
    "y_pred_test = model.predict(X_test)\n",
    "\n",
    "# Calculate metrics for training set\n",
    "train_rmse = np.sqrt(mean_squared_error(y_train, y_pred_train))\n",
    "train_mae = mean_absolute_error(y_train,y_pred_train)\n",
    "train_r2 = r2_score(y_train,y_pred_train)\n",
    "\n",
    "# Calculate metrics for test set\n",
    "test_rmse = np.sqrt(mean_squared_error(y_test,y_pred_test))\n",
    "test_mae = mean_absolute_error(y_test,y_pred_test)\n",
    "test_r2 = r2_score(y_test,y_pred_test)"
   ]
  },
  {
   "cell_type": "code",
   "execution_count": 16,
   "id": "b1ff88e6",
   "metadata": {},
   "outputs": [
    {
     "name": "stdout",
     "output_type": "stream",
     "text": [
      "\n",
      "TRAINING SET PERFORMANCE: \n",
      " -> RMSE: 0.0432\n",
      " -> MAE: 0.0303\n",
      " -> R² Score: 0.9992\n",
      "\n",
      "TEST SET PERFORMANCE: \n",
      " -> RMSE: 0.0548\n",
      " -> MAE: 0.0308\n",
      " -> R² Score: 0.9987\n"
     ]
    }
   ],
   "source": [
    "print(f\"\\nTRAINING SET PERFORMANCE: \")\n",
    "print(f\" -> RMSE: {train_rmse:.4f}\")\n",
    "print(f\" -> MAE: {train_mae:.4f}\")\n",
    "print(f\" -> R² Score: {train_r2:.4f}\")\n",
    "\n",
    "print(f\"\\nTEST SET PERFORMANCE: \")\n",
    "print(f\" -> RMSE: {test_rmse:.4f}\")\n",
    "print(f\" -> MAE: {test_mae:.4f}\")\n",
    "print(f\" -> R² Score: {test_r2:.4f}\")"
   ]
  },
  {
   "cell_type": "markdown",
   "id": "10e1ee1c",
   "metadata": {},
   "source": [
    "Check for overfitting"
   ]
  },
  {
   "cell_type": "code",
   "execution_count": 17,
   "id": "074fa45b",
   "metadata": {},
   "outputs": [
    {
     "name": "stdout",
     "output_type": "stream",
     "text": [
      "\n",
      "OVERFITTING CHECK: \n",
      " -> Train RMSE: 0.0432\n",
      " -> Test RMSE: 0.0548\n",
      " -> Difference: 0.0116\n",
      "Minimal overfitting - model generalizes well\n",
      "\n",
      "Model evaluation complete !\n"
     ]
    }
   ],
   "source": [
    "overfit_gap = abs(train_rmse-test_rmse)\n",
    "print(\"\\nOVERFITTING CHECK: \")\n",
    "print(f\" -> Train RMSE: {train_rmse:.4f}\")\n",
    "print(f\" -> Test RMSE: {test_rmse:.4f}\")\n",
    "print(f\" -> Difference: {overfit_gap:.4f}\")\n",
    "\n",
    "if overfit_gap < 0.05:\n",
    "    print('Minimal overfitting - model generalizes well')\n",
    "elif overfit_gap < 0.1:\n",
    "    print(\"Slight overfitting - acceptable\")\n",
    "else:\n",
    "    print(\"High overfitting - consider regularization\")\n",
    "\n",
    "print(\"\\nModel evaluation complete !\")"
   ]
  },
  {
   "cell_type": "markdown",
   "id": "458dd516",
   "metadata": {},
   "source": [
    "**FEATURE IMPORTANCE ANALYSIS**"
   ]
  },
  {
   "cell_type": "code",
   "execution_count": 19,
   "id": "9397167f",
   "metadata": {},
   "outputs": [
    {
     "name": "stdout",
     "output_type": "stream",
     "text": [
      "\n",
      "TOP 15 IMPORTANT FEATURES: \n",
      "             feature  importance\n",
      "         value_score   57.902721\n",
      "               price   31.751310\n",
      "      value_category    5.637147\n",
      "          price_tier    4.020195\n",
      "stay_length_category    0.365810\n",
      "   flexibility_score    0.192246\n",
      "                year    0.058958\n",
      "   construction_year    0.026330\n",
      "           room_type    0.009552\n",
      "    availability_365    0.007275\n",
      "              season    0.005139\n",
      "         service_fee    0.004341\n",
      "          is_weekend    0.003160\n",
      "                 day    0.002863\n",
      "      minimum_nights    0.002607\n"
     ]
    }
   ],
   "source": [
    "feature_importance = model.get_feature_importance()\n",
    "feature_names = X_train.columns\n",
    "\n",
    "# Create DataFrame\n",
    "importance_df = pd.DataFrame({\n",
    "    'feature' : feature_names,\n",
    "    'importance' : feature_importance\n",
    "}).sort_values('importance', ascending=False)\n",
    "\n",
    "print(f\"\\nTOP 15 IMPORTANT FEATURES: \")\n",
    "print(importance_df.head(15).to_string(index=False))"
   ]
  },
  {
   "cell_type": "markdown",
   "id": "aec6f0ae",
   "metadata": {},
   "source": [
    "**VISUALIZING TOP 10 FEATURES**"
   ]
  },
  {
   "cell_type": "code",
   "execution_count": 20,
   "id": "59c5d0f7",
   "metadata": {},
   "outputs": [
    {
     "data": {
      "image/png": "[encoded data removed]",
      "text/plain": [
       "<Figure size 1000x600 with 1 Axes>"
      ]
     },
     "metadata": {},
     "output_type": "display_data"
    },
    {
     "name": "stdout",
     "output_type": "stream",
     "text": [
      "\n",
      "Feature importance analysis complete\n"
     ]
    }
   ],
   "source": [
    "plt.figure(figsize=(10,6))\n",
    "top_features=importance_df.head(10)\n",
    "plt.barh(range(len(top_features)), top_features['importance'], color='teal', alpha=0.8, edgecolor='black')\n",
    "plt.yticks(range(len(top_features)), top_features['feature'])\n",
    "plt.xlabel('Feature Importance', fontweight='bold')\n",
    "plt.title('Top 10 Most Important Features for Demand Prediction', fontweight='bold', pad=15)\n",
    "plt.gca().invert_yaxis()\n",
    "plt.tight_layout()\n",
    "plt.show()\n",
    "\n",
    "print(\"\\nFeature importance analysis complete\")"
   ]
  },
  {
   "cell_type": "markdown",
   "id": "b8a6e0d4",
   "metadata": {},
   "source": [
    "**PREDICTION VS ACTUAL VISUALIZATION**"
   ]
  },
  {
   "cell_type": "code",
   "execution_count": 22,
   "id": "11c7dc3e",
   "metadata": {},
   "outputs": [
    {
     "data": {
      "image/png": "[encoded data removed]",
      "text/plain": [
       "<Figure size 1400x600 with 2 Axes>"
      ]
     },
     "metadata": {},
     "output_type": "display_data"
    }
   ],
   "source": [
    "# Create visualization\n",
    "fig, axes = plt.subplots(1,2, figsize=(14,6))\n",
    "\n",
    "# Plot 1: Actual vs Predicted (Test Set)\n",
    "ax1 = axes[0]\n",
    "ax1.scatter(y_test, y_pred_test, alpha=0.5, s=10, color='blue')\n",
    "ax1.plot([y_test.min(), y_test.max()], [y_test.min(), y_test.max()], \n",
    "         'r--', lw=2, label='Perfect Prediction')\n",
    "ax1.set_xlabel('Actual Reviews/Month', fontweight='bold')\n",
    "ax1.set_ylabel('Predicted Reviews/Month', fontweight='bold')\n",
    "ax1.set_title('Actual vs Predicted (Test Set)', fontweight='bold')\n",
    "ax1.legend()\n",
    "ax1.grid(True, alpha=0.3)\n",
    "\n",
    "\n",
    "# Plot 2: Residuals\n",
    "ax2 = axes[1]\n",
    "residuals = y_test - y_pred_test\n",
    "ax2.scatter(y_pred_test, residuals, alpha=0.5, s=10, color='purple')\n",
    "ax2.axhline(y=0, color='r', linestyle='--', lw=2)\n",
    "ax2.set_xlabel('Predicted Reviews/Month', fontweight='bold')\n",
    "ax2.set_ylabel('Residuals (Actual - Predicted)', fontweight='bold')\n",
    "ax2.set_title('Residual Plot', fontweight='bold')\n",
    "ax2.grid(True, alpha=0.3)\n",
    "\n",
    "plt.tight_layout()\n",
    "plt.show()"
   ]
  },
  {
   "cell_type": "code",
   "execution_count": 24,
   "id": "19b3d4e8",
   "metadata": {},
   "outputs": [
    {
     "name": "stdout",
     "output_type": "stream",
     "text": [
      "\n",
      "================================================================================\n",
      "4.8 MODEL SUMMARY & KEY INSIGHTS\n",
      "================================================================================\n",
      "\n",
      "MODEL PERFORMANCE:\n",
      "   • Test R² Score: 0.9987 (99.87% accuracy)\n",
      "   • Test RMSE: 0.0548\n",
      "   • Test MAE: 0.0308\n",
      "   • Overfitting Gap: 0.0116 (minimal)\n",
      "\n",
      "TOP 3 DEMAND DRIVERS:\n",
      "   1. Value Score: 57.9% importance\n",
      "   2. Price: 31.8% importance\n",
      "   3. Value Category: 5.6% importance\n",
      "\n",
      "KEY BUSINESS INSIGHTS:\n",
      "   • Value (quality/price ratio) drives demand more than price alone\n",
      "   • Hosts should prioritize guest experience over premium pricing\n",
      "   • Seasonal effects are captured through other features\n",
      "   • Model achieves near-perfect prediction accuracy (R²=0.9987)\n"
     ]
    }
   ],
   "source": [
    "print(\"\\n\" + \"=\" * 80)\n",
    "print(\"4.8 MODEL SUMMARY & KEY INSIGHTS\")\n",
    "print(\"=\" * 80)\n",
    "\n",
    "print(\"\\nMODEL PERFORMANCE:\")\n",
    "print(f\"   • Test R² Score: {test_r2:.4f} (99.87% accuracy)\")\n",
    "print(f\"   • Test RMSE: {test_rmse:.4f}\")\n",
    "print(f\"   • Test MAE: {test_mae:.4f}\")\n",
    "print(f\"   • Overfitting Gap: {overfit_gap:.4f} (minimal)\")\n",
    "\n",
    "print(\"\\nTOP 3 DEMAND DRIVERS:\")\n",
    "print(f\"   1. Value Score: 57.9% importance\")\n",
    "print(f\"   2. Price: 31.8% importance\")\n",
    "print(f\"   3. Value Category: 5.6% importance\")\n",
    "\n",
    "print(\"\\nKEY BUSINESS INSIGHTS:\")\n",
    "print(\"   • Value (quality/price ratio) drives demand more than price alone\")\n",
    "print(\"   • Hosts should prioritize guest experience over premium pricing\")\n",
    "print(\"   • Seasonal effects are captured through other features\")\n",
    "print(\"   • Model achieves near-perfect prediction accuracy (R²=0.9987)\")\n",
    "\n"
   ]
  },
  {
   "cell_type": "markdown",
   "id": "f2f38e4f",
   "metadata": {},
   "source": [
    "**INTERACTIVE PREDICTION**"
   ]
  },
  {
   "cell_type": "code",
   "execution_count": 27,
   "id": "1c3742dc",
   "metadata": {},
   "outputs": [],
   "source": [
    "def predict_demand(price, value_score, price_tier='Mid-Range', value_category='Good Value',\n",
    "                   stay_length_category='Weekly', flexibility_score=7, year=2025,\n",
    "                   construction_year=2015, room_type='Entire home/apt', \n",
    "                   availability_365=200, season='Summer', service_fee='Included',\n",
    "                   is_weekend=0, day=15, minimum_nights=3):\n",
    "    input_data = pd.DataFrame({\n",
    "        'price': [price],\n",
    "        'value_score': [value_score],\n",
    "        'price_tier': [str(price_tier)],\n",
    "        'value_category': [str(value_category)],\n",
    "        'stay_length_category': [str(stay_length_category)],\n",
    "        'flexibility_score': [flexibility_score],\n",
    "        'year': [year],\n",
    "        'construction_year': [str(construction_year)],\n",
    "        'room_type': [str(room_type)],\n",
    "        'availability_365': [availability_365],\n",
    "        'season': [str(season)],\n",
    "        'service_fee': [str(service_fee)],\n",
    "        'is_weekend': [is_weekend],\n",
    "        'day': [day],\n",
    "        'minimum_nights': [minimum_nights]\n",
    "    })\n",
    "    for col in X_train.columns:\n",
    "        if col not in input_data.columns:\n",
    "            # Use most common value from training set\n",
    "            if X_train[col].dtype == 'object':\n",
    "                input_data[col] = str(X_train[col].mode()[0])\n",
    "            else:\n",
    "                input_data[col] = X_train[col].median()\n",
    "\n",
    "    input_data = input_data[X_train.columns]\n",
    "\n",
    "    for col in categorical_features:\n",
    "        if col in input_data.columns:\n",
    "            input_data[col] = input_data[col].astype(str)\n",
    "\n",
    "    # prediction\n",
    "    prediction = model.predict(input_data)[0]\n",
    "    return prediction"
   ]
  },
  {
   "cell_type": "code",
   "execution_count": 28,
   "id": "925be1c4",
   "metadata": {},
   "outputs": [
    {
     "name": "stdout",
     "output_type": "stream",
     "text": [
      "   Input: $150/night, Nightly, Excellent Value, Summer\n",
      "   Predicted Demand: 2.66 reviews/month\n"
     ]
    }
   ],
   "source": [
    "pred1 = predict_demand(\n",
    "    price = 150,\n",
    "    value_score=1.5,\n",
    "    price_tier='Budget',\n",
    "    value_category='Excellent Value',\n",
    "    stay_length_category='Nightly',\n",
    "    flexibility_score=10,\n",
    "    season='Summer'\n",
    ")\n",
    "\n",
    "print(f\"   Input: $150/night, Nightly, Excellent Value, Summer\")\n",
    "print(f\"   Predicted Demand: {pred1:.2f} reviews/month\")\n"
   ]
  }
 ],
 "metadata": {
  "kernelspec": {
   "display_name": "base",
   "language": "python",
   "name": "python3"
  },
  "language_info": {
   "codemirror_mode": {
    "name": "ipython",
    "version": 3
   },
   "file_extension": ".py",
   "mimetype": "text/x-python",
   "name": "python",
   "nbconvert_exporter": "python",
   "pygments_lexer": "ipython3",
   "version": "3.13.5"
  }
 },
 "nbformat": 4,
 "nbformat_minor": 5
}
