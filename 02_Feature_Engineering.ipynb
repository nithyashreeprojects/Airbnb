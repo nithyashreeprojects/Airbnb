{
 "cells": [
  {
   "cell_type": "markdown",
   "id": "8b4014be",
   "metadata": {},
   "source": [
    "### **FEATURE ENGINEERING FOR AIRBNB SEASONALITY ANALYSIS**"
   ]
  },
  {
   "cell_type": "code",
   "execution_count": 1,
   "id": "f4b52ef2",
   "metadata": {},
   "outputs": [],
   "source": [
    "import pandas as pd\n",
    "import numpy as np\n",
    "import matplotlib.pyplot as plt\n",
    "import seaborn as sns\n",
    "from datetime import datetime\n",
    "import warnings\n",
    "warnings.filterwarnings('ignore')"
   ]
  },
  {
   "cell_type": "markdown",
   "id": "7eb0cc5e",
   "metadata": {},
   "source": [
    "LOAD DATA AND SETUP"
   ]
  },
  {
   "cell_type": "code",
   "execution_count": 2,
   "id": "c5bd2322",
   "metadata": {},
   "outputs": [],
   "source": [
    "df = pd.read_csv('cleaned_data_for_analysis.csv')"
   ]
  },
  {
   "cell_type": "markdown",
   "id": "7e66c2ac",
   "metadata": {},
   "source": [
    "DATE COMPONENTS"
   ]
  },
  {
   "cell_type": "code",
   "execution_count": 3,
   "id": "2487b246",
   "metadata": {},
   "outputs": [],
   "source": [
    "df['last_review'] = pd.to_datetime(df['last_review'],errors='coerce')"
   ]
  },
  {
   "cell_type": "code",
   "execution_count": 4,
   "id": "f60ce51a",
   "metadata": {},
   "outputs": [
    {
     "name": "stdout",
     "output_type": "stream",
     "text": [
      " last_review is datetime\n",
      "From: 2012-08-25\n",
      "To: 2025-06-26\n"
     ]
    }
   ],
   "source": [
    "if pd.api.types.is_datetime64_any_dtype(df['last_review']):\n",
    "    print(\" last_review is datetime\")\n",
    "    print(f\"From: {df['last_review'].min().date()}\")\n",
    "    print(f\"To: {df['last_review'].max().date()}\")\n",
    "else:\n",
    "    print(\"last_review is NOT datetime\")"
   ]
  },
  {
   "cell_type": "code",
   "execution_count": 5,
   "id": "e0a4942a",
   "metadata": {},
   "outputs": [
    {
     "name": "stdout",
     "output_type": "stream",
     "text": [
      "- price: 50.00 to 1200.00\n",
      "- minimum_nights: 1.00 to 365.00\n",
      "- availability_365: 0.00 to 365.00\n",
      "- reviews_per_month: 0.00 to 25.23\n"
     ]
    }
   ],
   "source": [
    "# RANGE OF KEY COLUMNS\n",
    "\n",
    "key_cols = ['price','minimum_nights','availability_365','reviews_per_month']\n",
    "for col in key_cols:\n",
    "    if col in df.columns:\n",
    "        print(f\"- {col}: {df[col].min():.2f} to {df[col].max():.2f}\")"
   ]
  },
  {
   "cell_type": "code",
   "execution_count": 6,
   "id": "73aeb199",
   "metadata": {},
   "outputs": [
    {
     "name": "stdout",
     "output_type": "stream",
     "text": [
      "\n",
      "📊 SAMPLE DATA:\n"
     ]
    },
    {
     "data": {
      "text/html": [
       "<div>\n",
       "<style scoped>\n",
       "    .dataframe tbody tr th:only-of-type {\n",
       "        vertical-align: middle;\n",
       "    }\n",
       "\n",
       "    .dataframe tbody tr th {\n",
       "        vertical-align: top;\n",
       "    }\n",
       "\n",
       "    .dataframe thead th {\n",
       "        text-align: right;\n",
       "    }\n",
       "</style>\n",
       "<table border=\"1\" class=\"dataframe\">\n",
       "  <thead>\n",
       "    <tr style=\"text-align: right;\">\n",
       "      <th></th>\n",
       "      <th>name</th>\n",
       "      <th>last_review</th>\n",
       "      <th>price</th>\n",
       "      <th>reviews_per_month</th>\n",
       "      <th>neighbourhood_group</th>\n",
       "    </tr>\n",
       "  </thead>\n",
       "  <tbody>\n",
       "    <tr>\n",
       "      <th>0</th>\n",
       "      <td>Clean &amp; quiet apt home by the park</td>\n",
       "      <td>2021-10-19</td>\n",
       "      <td>966.0</td>\n",
       "      <td>0.21</td>\n",
       "      <td>Brooklyn</td>\n",
       "    </tr>\n",
       "    <tr>\n",
       "      <th>1</th>\n",
       "      <td>Skylit Midtown Castle</td>\n",
       "      <td>2022-05-21</td>\n",
       "      <td>142.0</td>\n",
       "      <td>0.38</td>\n",
       "      <td>Manhattan</td>\n",
       "    </tr>\n",
       "    <tr>\n",
       "      <th>2</th>\n",
       "      <td>Entire Apt: Spacious Studio/Loft by central park</td>\n",
       "      <td>2018-11-19</td>\n",
       "      <td>204.0</td>\n",
       "      <td>0.10</td>\n",
       "      <td>Manhattan</td>\n",
       "    </tr>\n",
       "    <tr>\n",
       "      <th>3</th>\n",
       "      <td>Large Furnished Room Near B'way</td>\n",
       "      <td>2019-06-24</td>\n",
       "      <td>1018.0</td>\n",
       "      <td>3.47</td>\n",
       "      <td>Manhattan</td>\n",
       "    </tr>\n",
       "    <tr>\n",
       "      <th>4</th>\n",
       "      <td>Beautiful 1br on Upper West Side</td>\n",
       "      <td>2019-06-22</td>\n",
       "      <td>606.0</td>\n",
       "      <td>0.43</td>\n",
       "      <td>Manhattan</td>\n",
       "    </tr>\n",
       "  </tbody>\n",
       "</table>\n",
       "</div>"
      ],
      "text/plain": [
       "                                               name last_review   price  \\\n",
       "0                Clean & quiet apt home by the park  2021-10-19   966.0   \n",
       "1                             Skylit Midtown Castle  2022-05-21   142.0   \n",
       "2  Entire Apt: Spacious Studio/Loft by central park  2018-11-19   204.0   \n",
       "3                   Large Furnished Room Near B'way  2019-06-24  1018.0   \n",
       "4                  Beautiful 1br on Upper West Side  2019-06-22   606.0   \n",
       "\n",
       "   reviews_per_month neighbourhood_group  \n",
       "0               0.21            Brooklyn  \n",
       "1               0.38           Manhattan  \n",
       "2               0.10           Manhattan  \n",
       "3               3.47           Manhattan  \n",
       "4               0.43           Manhattan  "
      ]
     },
     "execution_count": 6,
     "metadata": {},
     "output_type": "execute_result"
    }
   ],
   "source": [
    "print(f\"\\n📊 SAMPLE DATA:\")\n",
    "df[['name', 'last_review', 'price', 'reviews_per_month', 'neighbourhood_group']].head()"
   ]
  },
  {
   "cell_type": "code",
   "execution_count": 7,
   "id": "26453247",
   "metadata": {},
   "outputs": [
    {
     "name": "stdout",
     "output_type": "stream",
     "text": [
      "ALL COLUMNS (27): \n",
      "  1.id\n",
      "  2.name\n",
      "  3.host_id\n",
      "  4.host_identity_verified\n",
      "  5.host_name\n",
      "  6.neighbourhood_group\n",
      "  7.neighbourhood\n",
      "  8.lat\n",
      "  9.long\n",
      " 10.country\n",
      " 11.country_code\n",
      " 12.instant_bookable\n",
      " 13.cancellation_policy\n",
      " 14.room_type\n",
      " 15.construction_year\n",
      " 16.price\n",
      " 17.service_fee\n",
      " 18.minimum_nights\n",
      " 19.number_of_reviews\n",
      " 20.last_review\n",
      " 21.reviews_per_month\n",
      " 22.review_rate_number\n",
      " 23.calculated_host_listings_count\n",
      " 24.availability_365\n",
      " 25.house_rules\n",
      " 26.license\n",
      " 27.missing_location\n"
     ]
    }
   ],
   "source": [
    "print(F\"ALL COLUMNS ({len(df.columns)}): \")\n",
    "for i, col in enumerate(df.columns,1):\n",
    "    print(f\" {i:2d}.{col}\")"
   ]
  },
  {
   "cell_type": "code",
   "execution_count": 8,
   "id": "4e1889ab",
   "metadata": {},
   "outputs": [
    {
     "name": "stdout",
     "output_type": "stream",
     "text": [
      "\n",
      "✨ KEY COLUMNS FOR SEASONALITY ANALYSIS: \n",
      "\n",
      "Critical:\n",
      "last_review found\n",
      "reviews_per_month found\n",
      "price found\n",
      "\n",
      "High Priority:\n",
      "number_of_reviews found\n",
      "availability_365 found\n",
      "minimum_nights found\n",
      "neighbourhood_group found\n",
      "room_type found\n",
      "\n",
      "Medium Priority:\n",
      "service_fee found\n",
      "calculated_host_listings_count found\n",
      "lat found\n",
      "long found\n"
     ]
    }
   ],
   "source": [
    "print(f\"\\n✨ KEY COLUMNS FOR SEASONALITY ANALYSIS: \")\n",
    "\n",
    "# define important categories\n",
    "\n",
    "columns_importance = {\n",
    "    'Critical': [\n",
    "        'last_review',              # Time series base\n",
    "        'reviews_per_month',        # Demand \n",
    "        'price'                     # Revenue\n",
    "    ],\n",
    "    'High Priority': [\n",
    "        'number_of_reviews',        # Total Demand\n",
    "        'availability_365',         # Supply metric\n",
    "        'minimum_nights',           # Booking patterns\n",
    "        'neighbourhood_group',      # Location segmentation\n",
    "        'room_type'                 # Property segmentation\n",
    "    ],\n",
    "    'Medium Priority': [\n",
    "        'service_fee',              # Additional pricing\n",
    "        'calculated_host_listings_count',   # Host type indicator\n",
    "        'lat','long'                # Geospatial analysis\n",
    "    ]\n",
    "}\n",
    "\n",
    "for category, cols in columns_importance.items():\n",
    "    print(f\"\\n{category}:\")\n",
    "    for col in cols:\n",
    "        if col in df.columns:\n",
    "            print(f\"{col} found\")\n",
    "        else:\n",
    "            print(f\"{col} not available\")"
   ]
  },
  {
   "cell_type": "code",
   "execution_count": 9,
   "id": "d3e9fd96",
   "metadata": {},
   "outputs": [
    {
     "name": "stdout",
     "output_type": "stream",
     "text": [
      "\n",
      "Total columns for analysis: 12\n",
      "    ['last_review', 'reviews_per_month', 'price', 'number_of_reviews', 'availability_365', 'minimum_nights', 'neighbourhood_group', 'room_type', 'service_fee', 'calculated_host_listings_count', 'lat', 'long']\n"
     ]
    }
   ],
   "source": [
    "# Analysis columns\n",
    "\n",
    "analysis_columns =[]\n",
    "for category, cols in columns_importance.items():\n",
    "    analysis_columns.extend([col for col in cols if col in df.columns])\n",
    "print(f\"\\nTotal columns for analysis: {len(analysis_columns)}\")\n",
    "print(f\"    {analysis_columns}\")"
   ]
  },
  {
   "cell_type": "markdown",
   "id": "7f655a47",
   "metadata": {},
   "source": [
    "##### **TIME-BASED FEATURES**"
   ]
  },
  {
   "cell_type": "code",
   "execution_count": 10,
   "id": "c02251c9",
   "metadata": {},
   "outputs": [
    {
     "name": "stdout",
     "output_type": "stream",
     "text": [
      "==============================\n",
      "EXTRACTING DATE FEATURES\n",
      "==============================\n"
     ]
    },
    {
     "data": {
      "text/html": [
       "<div>\n",
       "<style scoped>\n",
       "    .dataframe tbody tr th:only-of-type {\n",
       "        vertical-align: middle;\n",
       "    }\n",
       "\n",
       "    .dataframe tbody tr th {\n",
       "        vertical-align: top;\n",
       "    }\n",
       "\n",
       "    .dataframe thead th {\n",
       "        text-align: right;\n",
       "    }\n",
       "</style>\n",
       "<table border=\"1\" class=\"dataframe\">\n",
       "  <thead>\n",
       "    <tr style=\"text-align: right;\">\n",
       "      <th></th>\n",
       "      <th>last_review</th>\n",
       "      <th>year</th>\n",
       "      <th>month</th>\n",
       "      <th>quarter</th>\n",
       "      <th>day_name</th>\n",
       "    </tr>\n",
       "  </thead>\n",
       "  <tbody>\n",
       "    <tr>\n",
       "      <th>0</th>\n",
       "      <td>2021-10-19</td>\n",
       "      <td>2021</td>\n",
       "      <td>10</td>\n",
       "      <td>4</td>\n",
       "      <td>Tuesday</td>\n",
       "    </tr>\n",
       "    <tr>\n",
       "      <th>1</th>\n",
       "      <td>2022-05-21</td>\n",
       "      <td>2022</td>\n",
       "      <td>5</td>\n",
       "      <td>2</td>\n",
       "      <td>Saturday</td>\n",
       "    </tr>\n",
       "    <tr>\n",
       "      <th>2</th>\n",
       "      <td>2018-11-19</td>\n",
       "      <td>2018</td>\n",
       "      <td>11</td>\n",
       "      <td>4</td>\n",
       "      <td>Monday</td>\n",
       "    </tr>\n",
       "    <tr>\n",
       "      <th>3</th>\n",
       "      <td>2019-06-24</td>\n",
       "      <td>2019</td>\n",
       "      <td>6</td>\n",
       "      <td>2</td>\n",
       "      <td>Monday</td>\n",
       "    </tr>\n",
       "    <tr>\n",
       "      <th>4</th>\n",
       "      <td>2019-06-22</td>\n",
       "      <td>2019</td>\n",
       "      <td>6</td>\n",
       "      <td>2</td>\n",
       "      <td>Saturday</td>\n",
       "    </tr>\n",
       "    <tr>\n",
       "      <th>5</th>\n",
       "      <td>2019-06-23</td>\n",
       "      <td>2019</td>\n",
       "      <td>6</td>\n",
       "      <td>2</td>\n",
       "      <td>Sunday</td>\n",
       "    </tr>\n",
       "    <tr>\n",
       "      <th>6</th>\n",
       "      <td>2019-06-24</td>\n",
       "      <td>2019</td>\n",
       "      <td>6</td>\n",
       "      <td>2</td>\n",
       "      <td>Monday</td>\n",
       "    </tr>\n",
       "    <tr>\n",
       "      <th>7</th>\n",
       "      <td>2018-10-31</td>\n",
       "      <td>2018</td>\n",
       "      <td>10</td>\n",
       "      <td>4</td>\n",
       "      <td>Wednesday</td>\n",
       "    </tr>\n",
       "    <tr>\n",
       "      <th>8</th>\n",
       "      <td>2019-06-29</td>\n",
       "      <td>2019</td>\n",
       "      <td>6</td>\n",
       "      <td>2</td>\n",
       "      <td>Saturday</td>\n",
       "    </tr>\n",
       "    <tr>\n",
       "      <th>9</th>\n",
       "      <td>2019-06-28</td>\n",
       "      <td>2019</td>\n",
       "      <td>6</td>\n",
       "      <td>2</td>\n",
       "      <td>Friday</td>\n",
       "    </tr>\n",
       "  </tbody>\n",
       "</table>\n",
       "</div>"
      ],
      "text/plain": [
       "  last_review  year  month  quarter   day_name\n",
       "0  2021-10-19  2021     10        4    Tuesday\n",
       "1  2022-05-21  2022      5        2   Saturday\n",
       "2  2018-11-19  2018     11        4     Monday\n",
       "3  2019-06-24  2019      6        2     Monday\n",
       "4  2019-06-22  2019      6        2   Saturday\n",
       "5  2019-06-23  2019      6        2     Sunday\n",
       "6  2019-06-24  2019      6        2     Monday\n",
       "7  2018-10-31  2018     10        4  Wednesday\n",
       "8  2019-06-29  2019      6        2   Saturday\n",
       "9  2019-06-28  2019      6        2     Friday"
      ]
     },
     "execution_count": 10,
     "metadata": {},
     "output_type": "execute_result"
    }
   ],
   "source": [
    "print(\"=\" * 30)\n",
    "print(\"EXTRACTING DATE FEATURES\")\n",
    "print(\"=\" * 30)\n",
    "\n",
    "# Extracting date components from last_review\n",
    "df['year'] = df['last_review'].dt.year\n",
    "df['month'] = df['last_review'].dt.month\n",
    "df['day'] = df['last_review'].dt.day\n",
    "df['day_of_week'] = df['last_review'].dt.day_of_week\n",
    "df['day_name'] = df['last_review'].dt.day_name()\n",
    "df['quarter'] = df['last_review'].dt.quarter\n",
    "df['week_of_year'] = df['last_review'].dt.isocalendar().week\n",
    "\n",
    "# Sample data\n",
    "df[['last_review','year','month','quarter','day_name']].head(10)"
   ]
  },
  {
   "cell_type": "markdown",
   "id": "a2458565",
   "metadata": {},
   "source": [
    "##### **SEASONALITY INDICATORS**"
   ]
  },
  {
   "cell_type": "code",
   "execution_count": 11,
   "id": "0f699ce3",
   "metadata": {},
   "outputs": [
    {
     "name": "stdout",
     "output_type": "stream",
     "text": [
      "==============================\n",
      "CREATING SEASON CATEGORIES\n",
      "==============================\n",
      "season categories created: \n",
      "season\n",
      "Fall       6055\n",
      "Summer    32647\n",
      "Winter    11828\n",
      "Name: count, dtype: int64\n",
      "\n",
      "\n",
      "SAMPLE WITH SEASONS: \n"
     ]
    },
    {
     "data": {
      "text/html": [
       "<div>\n",
       "<style scoped>\n",
       "    .dataframe tbody tr th:only-of-type {\n",
       "        vertical-align: middle;\n",
       "    }\n",
       "\n",
       "    .dataframe tbody tr th {\n",
       "        vertical-align: top;\n",
       "    }\n",
       "\n",
       "    .dataframe thead th {\n",
       "        text-align: right;\n",
       "    }\n",
       "</style>\n",
       "<table border=\"1\" class=\"dataframe\">\n",
       "  <thead>\n",
       "    <tr style=\"text-align: right;\">\n",
       "      <th></th>\n",
       "      <th>last_review</th>\n",
       "      <th>month</th>\n",
       "      <th>season</th>\n",
       "      <th>reviews_per_month</th>\n",
       "    </tr>\n",
       "  </thead>\n",
       "  <tbody>\n",
       "    <tr>\n",
       "      <th>0</th>\n",
       "      <td>2021-10-19</td>\n",
       "      <td>10</td>\n",
       "      <td>Fall</td>\n",
       "      <td>0.21</td>\n",
       "    </tr>\n",
       "    <tr>\n",
       "      <th>1</th>\n",
       "      <td>2022-05-21</td>\n",
       "      <td>5</td>\n",
       "      <td>Summer</td>\n",
       "      <td>0.38</td>\n",
       "    </tr>\n",
       "    <tr>\n",
       "      <th>2</th>\n",
       "      <td>2018-11-19</td>\n",
       "      <td>11</td>\n",
       "      <td>Fall</td>\n",
       "      <td>0.10</td>\n",
       "    </tr>\n",
       "    <tr>\n",
       "      <th>3</th>\n",
       "      <td>2019-06-24</td>\n",
       "      <td>6</td>\n",
       "      <td>Summer</td>\n",
       "      <td>3.47</td>\n",
       "    </tr>\n",
       "    <tr>\n",
       "      <th>4</th>\n",
       "      <td>2019-06-22</td>\n",
       "      <td>6</td>\n",
       "      <td>Summer</td>\n",
       "      <td>0.43</td>\n",
       "    </tr>\n",
       "    <tr>\n",
       "      <th>5</th>\n",
       "      <td>2019-06-23</td>\n",
       "      <td>6</td>\n",
       "      <td>Summer</td>\n",
       "      <td>1.50</td>\n",
       "    </tr>\n",
       "    <tr>\n",
       "      <th>6</th>\n",
       "      <td>2019-06-24</td>\n",
       "      <td>6</td>\n",
       "      <td>Summer</td>\n",
       "      <td>1.34</td>\n",
       "    </tr>\n",
       "    <tr>\n",
       "      <th>7</th>\n",
       "      <td>2018-10-31</td>\n",
       "      <td>10</td>\n",
       "      <td>Fall</td>\n",
       "      <td>0.22</td>\n",
       "    </tr>\n",
       "    <tr>\n",
       "      <th>8</th>\n",
       "      <td>2019-06-29</td>\n",
       "      <td>6</td>\n",
       "      <td>Summer</td>\n",
       "      <td>1.20</td>\n",
       "    </tr>\n",
       "    <tr>\n",
       "      <th>9</th>\n",
       "      <td>2019-06-28</td>\n",
       "      <td>6</td>\n",
       "      <td>Summer</td>\n",
       "      <td>1.72</td>\n",
       "    </tr>\n",
       "  </tbody>\n",
       "</table>\n",
       "</div>"
      ],
      "text/plain": [
       "  last_review  month  season  reviews_per_month\n",
       "0  2021-10-19     10    Fall               0.21\n",
       "1  2022-05-21      5  Summer               0.38\n",
       "2  2018-11-19     11    Fall               0.10\n",
       "3  2019-06-24      6  Summer               3.47\n",
       "4  2019-06-22      6  Summer               0.43\n",
       "5  2019-06-23      6  Summer               1.50\n",
       "6  2019-06-24      6  Summer               1.34\n",
       "7  2018-10-31     10    Fall               0.22\n",
       "8  2019-06-29      6  Summer               1.20\n",
       "9  2019-06-28      6  Summer               1.72"
      ]
     },
     "execution_count": 11,
     "metadata": {},
     "output_type": "execute_result"
    }
   ],
   "source": [
    "print(\"=\" * 30)\n",
    "print(\"CREATING SEASON CATEGORIES\")\n",
    "print(\"=\" * 30)\n",
    "\n",
    "def assign_season(month):\n",
    "    if month in [12,1,2]:\n",
    "        return 'Winter'\n",
    "    elif month in [3,4,5]:\n",
    "        return 'Summer'\n",
    "    elif month in [6,7,8]:\n",
    "        return 'Summer'\n",
    "    else :  # month in 9.10,11\n",
    "        return 'Fall'\n",
    "\n",
    "df['season'] = df['month'].apply(assign_season)\n",
    "\n",
    "print(\"season categories created: \")\n",
    "print(df['season'].value_counts().sort_index())\n",
    "print('\\n')\n",
    "print(\"SAMPLE WITH SEASONS: \")\n",
    "df[['last_review','month','season','reviews_per_month']].head(10)"
   ]
  },
  {
   "cell_type": "markdown",
   "id": "b85a2f1e",
   "metadata": {},
   "source": [
    "CREATING WEEKEND / WEEKDAY FLAG"
   ]
  },
  {
   "cell_type": "code",
   "execution_count": 13,
   "id": "09e145d5",
   "metadata": {},
   "outputs": [
    {
     "name": "stdout",
     "output_type": "stream",
     "text": [
      "==============================\n",
      "CREATING WEEKEND/WEEKDAY FLAGS\n",
      "==============================\n",
      "weekend flag created\n",
      "Weekday Reviews: 29,555\n",
      "Weekend Reviews: 20,975\n"
     ]
    }
   ],
   "source": [
    "print(\"=\"*30)\n",
    "print(\"CREATING WEEKEND/WEEKDAY FLAGS\")\n",
    "print(\"=\"*30)\n",
    "\n",
    "df['is_weekend'] = df['day_of_week'].isin([5, 6]).astype(int)\n",
    "print(\"weekend flag created\")\n",
    "print(f\"Weekday Reviews: {(df['is_weekend']==0).sum():,}\")\n",
    "print(f\"Weekend Reviews: {(df['is_weekend']==1).sum():,}\")"
   ]
  },
  {
   "cell_type": "code",
   "execution_count": 14,
   "id": "d9c1979b",
   "metadata": {},
   "outputs": [
    {
     "name": "stdout",
     "output_type": "stream",
     "text": [
      "\n",
      "DISTRIBUTION\n",
      "-> Average reviews/month on weekdays: 1.33\n",
      "-> Average reviews/month on weekends: 1.49\n"
     ]
    }
   ],
   "source": [
    "print(\"\\nDISTRIBUTION\")\n",
    "weekend_distribution = df.groupby('is_weekend')['reviews_per_month'].mean()\n",
    "print(f\"-> Average reviews/month on weekdays: {weekend_distribution[0]:.2f}\")\n",
    "print(f\"-> Average reviews/month on weekends: {weekend_distribution[1]:.2f}\")"
   ]
  },
  {
   "cell_type": "code",
   "execution_count": 18,
   "id": "c412d42a",
   "metadata": {},
   "outputs": [
    {
     "name": "stdout",
     "output_type": "stream",
     "text": [
      "==============================\n",
      "SEASONALITY SUMMARY\n",
      "==============================\n",
      "\n",
      "NEW FEATURES CREATED: 9\n",
      "1. year\n",
      "2. month\n",
      "3. day\n",
      "4. quarter\n",
      "5. day_of_week\n",
      "6. day_name\n",
      "7. week_of_year\n",
      "8. season\n",
      "9. is_weekend\n",
      "\n",
      " UPDATED DATASET: \n",
      " -> Total columns: 36\n",
      " -> New Date Features: 9\n",
      "\n",
      " SAMPLE WITH NEW FEATURES: \n"
     ]
    },
    {
     "data": {
      "text/html": [
       "<div>\n",
       "<style scoped>\n",
       "    .dataframe tbody tr th:only-of-type {\n",
       "        vertical-align: middle;\n",
       "    }\n",
       "\n",
       "    .dataframe tbody tr th {\n",
       "        vertical-align: top;\n",
       "    }\n",
       "\n",
       "    .dataframe thead th {\n",
       "        text-align: right;\n",
       "    }\n",
       "</style>\n",
       "<table border=\"1\" class=\"dataframe\">\n",
       "  <thead>\n",
       "    <tr style=\"text-align: right;\">\n",
       "      <th></th>\n",
       "      <th>last_review</th>\n",
       "      <th>year</th>\n",
       "      <th>month</th>\n",
       "      <th>quarter</th>\n",
       "      <th>season</th>\n",
       "      <th>day_name</th>\n",
       "      <th>is_weekend</th>\n",
       "      <th>price</th>\n",
       "      <th>reviews_per_month</th>\n",
       "    </tr>\n",
       "  </thead>\n",
       "  <tbody>\n",
       "    <tr>\n",
       "      <th>0</th>\n",
       "      <td>2021-10-19</td>\n",
       "      <td>2021</td>\n",
       "      <td>10</td>\n",
       "      <td>4</td>\n",
       "      <td>Fall</td>\n",
       "      <td>Tuesday</td>\n",
       "      <td>0</td>\n",
       "      <td>966.0</td>\n",
       "      <td>0.21</td>\n",
       "    </tr>\n",
       "    <tr>\n",
       "      <th>1</th>\n",
       "      <td>2022-05-21</td>\n",
       "      <td>2022</td>\n",
       "      <td>5</td>\n",
       "      <td>2</td>\n",
       "      <td>Summer</td>\n",
       "      <td>Saturday</td>\n",
       "      <td>1</td>\n",
       "      <td>142.0</td>\n",
       "      <td>0.38</td>\n",
       "    </tr>\n",
       "    <tr>\n",
       "      <th>2</th>\n",
       "      <td>2018-11-19</td>\n",
       "      <td>2018</td>\n",
       "      <td>11</td>\n",
       "      <td>4</td>\n",
       "      <td>Fall</td>\n",
       "      <td>Monday</td>\n",
       "      <td>0</td>\n",
       "      <td>204.0</td>\n",
       "      <td>0.10</td>\n",
       "    </tr>\n",
       "    <tr>\n",
       "      <th>3</th>\n",
       "      <td>2019-06-24</td>\n",
       "      <td>2019</td>\n",
       "      <td>6</td>\n",
       "      <td>2</td>\n",
       "      <td>Summer</td>\n",
       "      <td>Monday</td>\n",
       "      <td>0</td>\n",
       "      <td>1018.0</td>\n",
       "      <td>3.47</td>\n",
       "    </tr>\n",
       "    <tr>\n",
       "      <th>4</th>\n",
       "      <td>2019-06-22</td>\n",
       "      <td>2019</td>\n",
       "      <td>6</td>\n",
       "      <td>2</td>\n",
       "      <td>Summer</td>\n",
       "      <td>Saturday</td>\n",
       "      <td>1</td>\n",
       "      <td>606.0</td>\n",
       "      <td>0.43</td>\n",
       "    </tr>\n",
       "  </tbody>\n",
       "</table>\n",
       "</div>"
      ],
      "text/plain": [
       "  last_review  year  month  quarter  season  day_name  is_weekend   price  \\\n",
       "0  2021-10-19  2021     10        4    Fall   Tuesday           0   966.0   \n",
       "1  2022-05-21  2022      5        2  Summer  Saturday           1   142.0   \n",
       "2  2018-11-19  2018     11        4    Fall    Monday           0   204.0   \n",
       "3  2019-06-24  2019      6        2  Summer    Monday           0  1018.0   \n",
       "4  2019-06-22  2019      6        2  Summer  Saturday           1   606.0   \n",
       "\n",
       "   reviews_per_month  \n",
       "0               0.21  \n",
       "1               0.38  \n",
       "2               0.10  \n",
       "3               3.47  \n",
       "4               0.43  "
      ]
     },
     "execution_count": 18,
     "metadata": {},
     "output_type": "execute_result"
    }
   ],
   "source": [
    "print(\"=\"*30)\n",
    "print(\"SEASONALITY SUMMARY\")\n",
    "print(\"=\"*30)\n",
    "\n",
    "new_features=['year','month','day','quarter','day_of_week','day_name',\n",
    "              'week_of_year','season','is_weekend']\n",
    "\n",
    "print(f\"\\nNEW FEATURES CREATED: {len(new_features)}\")\n",
    "for i, feature in enumerate(new_features,1):\n",
    "    print(f\"{i}. {feature}\")\n",
    "\n",
    "print(f\"\\n UPDATED DATASET: \")\n",
    "print(f\" -> Total columns: {len(df.columns)}\")\n",
    "print(f\" -> New Date Features: {len(new_features)}\")\n",
    "\n",
    "# All columns with new features\n",
    "print(\"\\n SAMPLE WITH NEW FEATURES: \")\n",
    "display_cols = ['last_review', 'year', 'month', 'quarter', 'season', \n",
    "                'day_name', 'is_weekend', 'price', 'reviews_per_month']\n",
    "df[display_cols].head()"
   ]
  },
  {
   "cell_type": "markdown",
   "id": "cc6a3d83",
   "metadata": {},
   "source": [
    "DEMAND INDICATORS"
   ]
  },
  {
   "cell_type": "code",
   "execution_count": null,
   "id": "3b66dc48",
   "metadata": {},
   "outputs": [],
   "source": []
  },
  {
   "cell_type": "markdown",
   "id": "539b93f2",
   "metadata": {},
   "source": [
    "PRICE CATEGORIES"
   ]
  },
  {
   "cell_type": "markdown",
   "id": "662b7e07",
   "metadata": {},
   "source": [
    "BOOKING PATTERNS"
   ]
  }
 ],
 "metadata": {
  "kernelspec": {
   "display_name": "base",
   "language": "python",
   "name": "python3"
  },
  "language_info": {
   "codemirror_mode": {
    "name": "ipython",
    "version": 3
   },
   "file_extension": ".py",
   "mimetype": "text/x-python",
   "name": "python",
   "nbconvert_exporter": "python",
   "pygments_lexer": "ipython3",
   "version": "3.13.5"
  }
 },
 "nbformat": 4,
 "nbformat_minor": 5
}
