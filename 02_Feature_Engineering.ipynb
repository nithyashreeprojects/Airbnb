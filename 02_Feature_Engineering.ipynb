{
 "cells": [
  {
   "cell_type": "markdown",
   "id": "8b4014be",
   "metadata": {},
   "source": [
    "### **FEATURE ENGINEERING FOR AIRBNB SEASONALITY ANALYSIS**"
   ]
  },
  {
   "cell_type": "code",
   "execution_count": 4,
   "id": "f4b52ef2",
   "metadata": {},
   "outputs": [],
   "source": [
    "import pandas as pd\n",
    "import numpy as np\n",
    "import matplotlib.pyplot as plt\n",
    "import seaborn as sns\n",
    "from datetime import datetime\n",
    "import warnings\n",
    "warnings.filterwarnings('ignore')"
   ]
  },
  {
   "cell_type": "markdown",
   "id": "7eb0cc5e",
   "metadata": {},
   "source": [
    "LOAD DATA AND SETUP"
   ]
  },
  {
   "cell_type": "code",
   "execution_count": 5,
   "id": "c5bd2322",
   "metadata": {},
   "outputs": [],
   "source": [
    "df = pd.read_csv('cleaned_data_after_outlier_removal.csv')"
   ]
  },
  {
   "cell_type": "markdown",
   "id": "7e66c2ac",
   "metadata": {},
   "source": [
    "DATE COMPONENTS"
   ]
  },
  {
   "cell_type": "code",
   "execution_count": 6,
   "id": "2487b246",
   "metadata": {},
   "outputs": [],
   "source": [
    "df['last_review'] = pd.to_datetime(df['last_review'],errors='coerce')"
   ]
  },
  {
   "cell_type": "code",
   "execution_count": 7,
   "id": "f60ce51a",
   "metadata": {},
   "outputs": [
    {
     "name": "stdout",
     "output_type": "stream",
     "text": [
      " last_review is datetime\n",
      "From: 2012-08-25\n",
      "To: 2025-06-26\n"
     ]
    }
   ],
   "source": [
    "if pd.api.types.is_datetime64_any_dtype(df['last_review']):\n",
    "    print(\" last_review is datetime\")\n",
    "    print(f\"From: {df['last_review'].min().date()}\")\n",
    "    print(f\"To: {df['last_review'].max().date()}\")\n",
    "else:\n",
    "    print(\"last_review is NOT datetime\")"
   ]
  },
  {
   "cell_type": "code",
   "execution_count": 8,
   "id": "e0a4942a",
   "metadata": {},
   "outputs": [
    {
     "name": "stdout",
     "output_type": "stream",
     "text": [
      "- price: 50.00 to 1200.00\n",
      "- minimum_nights: 1.00 to 365.00\n",
      "- availability_365: 0.00 to 3677.00\n",
      "- reviews_per_month: 0.00 to 25.23\n"
     ]
    }
   ],
   "source": [
    "# RANGE OF KEY COLUMNS\n",
    "\n",
    "key_cols = ['price','minimum_nights','availability_365','reviews_per_month']\n",
    "for col in key_cols:\n",
    "    if col in df.columns:\n",
    "        print(f\"- {col}: {df[col].min():.2f} to {df[col].max():.2f}\")"
   ]
  },
  {
   "cell_type": "code",
   "execution_count": 9,
   "id": "73aeb199",
   "metadata": {},
   "outputs": [
    {
     "name": "stdout",
     "output_type": "stream",
     "text": [
      "\n",
      "📊 SAMPLE DATA:\n"
     ]
    },
    {
     "data": {
      "text/html": [
       "<div>\n",
       "<style scoped>\n",
       "    .dataframe tbody tr th:only-of-type {\n",
       "        vertical-align: middle;\n",
       "    }\n",
       "\n",
       "    .dataframe tbody tr th {\n",
       "        vertical-align: top;\n",
       "    }\n",
       "\n",
       "    .dataframe thead th {\n",
       "        text-align: right;\n",
       "    }\n",
       "</style>\n",
       "<table border=\"1\" class=\"dataframe\">\n",
       "  <thead>\n",
       "    <tr style=\"text-align: right;\">\n",
       "      <th></th>\n",
       "      <th>name</th>\n",
       "      <th>last_review</th>\n",
       "      <th>price</th>\n",
       "      <th>reviews_per_month</th>\n",
       "      <th>neighbourhood_group</th>\n",
       "    </tr>\n",
       "  </thead>\n",
       "  <tbody>\n",
       "    <tr>\n",
       "      <th>0</th>\n",
       "      <td>Clean &amp; quiet apt home by the park</td>\n",
       "      <td>2021-10-19</td>\n",
       "      <td>966.0</td>\n",
       "      <td>0.21</td>\n",
       "      <td>Brooklyn</td>\n",
       "    </tr>\n",
       "    <tr>\n",
       "      <th>1</th>\n",
       "      <td>Skylit Midtown Castle</td>\n",
       "      <td>2022-05-21</td>\n",
       "      <td>142.0</td>\n",
       "      <td>0.38</td>\n",
       "      <td>Manhattan</td>\n",
       "    </tr>\n",
       "    <tr>\n",
       "      <th>2</th>\n",
       "      <td>Entire Apt: Spacious Studio/Loft by central park</td>\n",
       "      <td>2018-11-19</td>\n",
       "      <td>204.0</td>\n",
       "      <td>0.10</td>\n",
       "      <td>Manhattan</td>\n",
       "    </tr>\n",
       "    <tr>\n",
       "      <th>3</th>\n",
       "      <td>Large Cozy 1 BR Apartment In Midtown East</td>\n",
       "      <td>2019-06-22</td>\n",
       "      <td>577.0</td>\n",
       "      <td>0.59</td>\n",
       "      <td>Manhattan</td>\n",
       "    </tr>\n",
       "    <tr>\n",
       "      <th>4</th>\n",
       "      <td>Large Furnished Room Near B'way</td>\n",
       "      <td>2019-06-24</td>\n",
       "      <td>1018.0</td>\n",
       "      <td>3.47</td>\n",
       "      <td>Manhattan</td>\n",
       "    </tr>\n",
       "  </tbody>\n",
       "</table>\n",
       "</div>"
      ],
      "text/plain": [
       "                                               name last_review   price  \\\n",
       "0                Clean & quiet apt home by the park  2021-10-19   966.0   \n",
       "1                             Skylit Midtown Castle  2022-05-21   142.0   \n",
       "2  Entire Apt: Spacious Studio/Loft by central park  2018-11-19   204.0   \n",
       "3         Large Cozy 1 BR Apartment In Midtown East  2019-06-22   577.0   \n",
       "4                   Large Furnished Room Near B'way  2019-06-24  1018.0   \n",
       "\n",
       "   reviews_per_month neighbourhood_group  \n",
       "0               0.21            Brooklyn  \n",
       "1               0.38           Manhattan  \n",
       "2               0.10           Manhattan  \n",
       "3               0.59           Manhattan  \n",
       "4               3.47           Manhattan  "
      ]
     },
     "execution_count": 9,
     "metadata": {},
     "output_type": "execute_result"
    }
   ],
   "source": [
    "print(f\"\\n📊 SAMPLE DATA:\")\n",
    "df[['name', 'last_review', 'price', 'reviews_per_month', 'neighbourhood_group']].head()"
   ]
  },
  {
   "cell_type": "code",
   "execution_count": 10,
   "id": "26453247",
   "metadata": {},
   "outputs": [
    {
     "name": "stdout",
     "output_type": "stream",
     "text": [
      "ALL COLUMNS (24): \n",
      "  1.name\n",
      "  2.host_identity_verified\n",
      "  3.host_name\n",
      "  4.neighbourhood_group\n",
      "  5.neighbourhood\n",
      "  6.lat\n",
      "  7.long\n",
      "  8.country\n",
      "  9.country_code\n",
      " 10.instant_bookable\n",
      " 11.cancellation_policy\n",
      " 12.room_type\n",
      " 13.construction_year\n",
      " 14.price\n",
      " 15.service_fee\n",
      " 16.minimum_nights\n",
      " 17.number_of_reviews\n",
      " 18.last_review\n",
      " 19.reviews_per_month\n",
      " 20.review_rate_number\n",
      " 21.calculated_host_listings_count\n",
      " 22.availability_365\n",
      " 23.license\n",
      " 24.missing_location\n"
     ]
    }
   ],
   "source": [
    "print(F\"ALL COLUMNS ({len(df.columns)}): \")\n",
    "for i, col in enumerate(df.columns,1):\n",
    "    print(f\" {i:2d}.{col}\")"
   ]
  },
  {
   "cell_type": "code",
   "execution_count": 11,
   "id": "4e1889ab",
   "metadata": {},
   "outputs": [
    {
     "name": "stdout",
     "output_type": "stream",
     "text": [
      "\n",
      "✨ KEY COLUMNS FOR SEASONALITY ANALYSIS: \n",
      "\n",
      "Critical:\n",
      "last_review found\n",
      "reviews_per_month found\n",
      "price found\n",
      "\n",
      "High Priority:\n",
      "number_of_reviews found\n",
      "availability_365 found\n",
      "minimum_nights found\n",
      "neighbourhood_group found\n",
      "room_type found\n",
      "\n",
      "Medium Priority:\n",
      "service_fee found\n",
      "calculated_host_listings_count found\n",
      "lat found\n",
      "long found\n"
     ]
    }
   ],
   "source": [
    "print(f\"\\n✨ KEY COLUMNS FOR SEASONALITY ANALYSIS: \")\n",
    "\n",
    "# define important categories\n",
    "\n",
    "columns_importance = {\n",
    "    'Critical': [\n",
    "        'last_review',              # Time series base\n",
    "        'reviews_per_month',        # Demand \n",
    "        'price'                     # Revenue\n",
    "    ],\n",
    "    'High Priority': [\n",
    "        'number_of_reviews',        # Total Demand\n",
    "        'availability_365',         # Supply metric\n",
    "        'minimum_nights',           # Booking patterns\n",
    "        'neighbourhood_group',      # Location segmentation\n",
    "        'room_type'                 # Property segmentation\n",
    "    ],\n",
    "    'Medium Priority': [\n",
    "        'service_fee',              # Additional pricing\n",
    "        'calculated_host_listings_count',   # Host type indicator\n",
    "        'lat','long'                # Geospatial analysis\n",
    "    ]\n",
    "}\n",
    "\n",
    "for category, cols in columns_importance.items():\n",
    "    print(f\"\\n{category}:\")\n",
    "    for col in cols:\n",
    "        if col in df.columns:\n",
    "            print(f\"{col} found\")\n",
    "        else:\n",
    "            print(f\"{col} not available\")"
   ]
  },
  {
   "cell_type": "code",
   "execution_count": 12,
   "id": "d3e9fd96",
   "metadata": {},
   "outputs": [
    {
     "name": "stdout",
     "output_type": "stream",
     "text": [
      "\n",
      "Total columns for analysis: 12\n",
      "    ['last_review', 'reviews_per_month', 'price', 'number_of_reviews', 'availability_365', 'minimum_nights', 'neighbourhood_group', 'room_type', 'service_fee', 'calculated_host_listings_count', 'lat', 'long']\n"
     ]
    }
   ],
   "source": [
    "# Analysis columns\n",
    "\n",
    "analysis_columns =[]\n",
    "for category, cols in columns_importance.items():\n",
    "    analysis_columns.extend([col for col in cols if col in df.columns])\n",
    "print(f\"\\nTotal columns for analysis: {len(analysis_columns)}\")\n",
    "print(f\"    {analysis_columns}\")"
   ]
  },
  {
   "cell_type": "markdown",
   "id": "7f655a47",
   "metadata": {},
   "source": [
    "##### **TIME-BASED FEATURES**"
   ]
  },
  {
   "cell_type": "code",
   "execution_count": 13,
   "id": "c02251c9",
   "metadata": {},
   "outputs": [
    {
     "name": "stdout",
     "output_type": "stream",
     "text": [
      "==============================\n",
      "EXTRACTING DATE FEATURES\n",
      "==============================\n"
     ]
    },
    {
     "data": {
      "text/html": [
       "<div>\n",
       "<style scoped>\n",
       "    .dataframe tbody tr th:only-of-type {\n",
       "        vertical-align: middle;\n",
       "    }\n",
       "\n",
       "    .dataframe tbody tr th {\n",
       "        vertical-align: top;\n",
       "    }\n",
       "\n",
       "    .dataframe thead th {\n",
       "        text-align: right;\n",
       "    }\n",
       "</style>\n",
       "<table border=\"1\" class=\"dataframe\">\n",
       "  <thead>\n",
       "    <tr style=\"text-align: right;\">\n",
       "      <th></th>\n",
       "      <th>last_review</th>\n",
       "      <th>year</th>\n",
       "      <th>month</th>\n",
       "      <th>quarter</th>\n",
       "      <th>day_name</th>\n",
       "    </tr>\n",
       "  </thead>\n",
       "  <tbody>\n",
       "    <tr>\n",
       "      <th>0</th>\n",
       "      <td>2021-10-19</td>\n",
       "      <td>2021</td>\n",
       "      <td>10</td>\n",
       "      <td>4</td>\n",
       "      <td>Tuesday</td>\n",
       "    </tr>\n",
       "    <tr>\n",
       "      <th>1</th>\n",
       "      <td>2022-05-21</td>\n",
       "      <td>2022</td>\n",
       "      <td>5</td>\n",
       "      <td>2</td>\n",
       "      <td>Saturday</td>\n",
       "    </tr>\n",
       "    <tr>\n",
       "      <th>2</th>\n",
       "      <td>2018-11-19</td>\n",
       "      <td>2018</td>\n",
       "      <td>11</td>\n",
       "      <td>4</td>\n",
       "      <td>Monday</td>\n",
       "    </tr>\n",
       "    <tr>\n",
       "      <th>3</th>\n",
       "      <td>2019-06-22</td>\n",
       "      <td>2019</td>\n",
       "      <td>6</td>\n",
       "      <td>2</td>\n",
       "      <td>Saturday</td>\n",
       "    </tr>\n",
       "    <tr>\n",
       "      <th>4</th>\n",
       "      <td>2019-06-24</td>\n",
       "      <td>2019</td>\n",
       "      <td>6</td>\n",
       "      <td>2</td>\n",
       "      <td>Monday</td>\n",
       "    </tr>\n",
       "    <tr>\n",
       "      <th>5</th>\n",
       "      <td>2017-07-21</td>\n",
       "      <td>2017</td>\n",
       "      <td>7</td>\n",
       "      <td>3</td>\n",
       "      <td>Friday</td>\n",
       "    </tr>\n",
       "    <tr>\n",
       "      <th>6</th>\n",
       "      <td>2019-06-22</td>\n",
       "      <td>2019</td>\n",
       "      <td>6</td>\n",
       "      <td>2</td>\n",
       "      <td>Saturday</td>\n",
       "    </tr>\n",
       "    <tr>\n",
       "      <th>7</th>\n",
       "      <td>2019-06-23</td>\n",
       "      <td>2019</td>\n",
       "      <td>6</td>\n",
       "      <td>2</td>\n",
       "      <td>Sunday</td>\n",
       "    </tr>\n",
       "    <tr>\n",
       "      <th>8</th>\n",
       "      <td>2019-06-24</td>\n",
       "      <td>2019</td>\n",
       "      <td>6</td>\n",
       "      <td>2</td>\n",
       "      <td>Monday</td>\n",
       "    </tr>\n",
       "    <tr>\n",
       "      <th>9</th>\n",
       "      <td>2018-10-31</td>\n",
       "      <td>2018</td>\n",
       "      <td>10</td>\n",
       "      <td>4</td>\n",
       "      <td>Wednesday</td>\n",
       "    </tr>\n",
       "  </tbody>\n",
       "</table>\n",
       "</div>"
      ],
      "text/plain": [
       "  last_review  year  month  quarter   day_name\n",
       "0  2021-10-19  2021     10        4    Tuesday\n",
       "1  2022-05-21  2022      5        2   Saturday\n",
       "2  2018-11-19  2018     11        4     Monday\n",
       "3  2019-06-22  2019      6        2   Saturday\n",
       "4  2019-06-24  2019      6        2     Monday\n",
       "5  2017-07-21  2017      7        3     Friday\n",
       "6  2019-06-22  2019      6        2   Saturday\n",
       "7  2019-06-23  2019      6        2     Sunday\n",
       "8  2019-06-24  2019      6        2     Monday\n",
       "9  2018-10-31  2018     10        4  Wednesday"
      ]
     },
     "execution_count": 13,
     "metadata": {},
     "output_type": "execute_result"
    }
   ],
   "source": [
    "print(\"=\" * 30)\n",
    "print(\"EXTRACTING DATE FEATURES\")\n",
    "print(\"=\" * 30)\n",
    "\n",
    "# Extracting date components from last_review\n",
    "df['year'] = df['last_review'].dt.year\n",
    "df['month'] = df['last_review'].dt.month\n",
    "df['day'] = df['last_review'].dt.day\n",
    "df['day_of_week'] = df['last_review'].dt.day_of_week\n",
    "df['day_name'] = df['last_review'].dt.day_name()\n",
    "df['quarter'] = df['last_review'].dt.quarter\n",
    "df['week_of_year'] = df['last_review'].dt.isocalendar().week\n",
    "\n",
    "# Sample data\n",
    "df[['last_review','year','month','quarter','day_name']].head(10)"
   ]
  },
  {
   "cell_type": "markdown",
   "id": "a2458565",
   "metadata": {},
   "source": [
    "##### **SEASONALITY INDICATORS**"
   ]
  },
  {
   "cell_type": "code",
   "execution_count": 14,
   "id": "0f699ce3",
   "metadata": {},
   "outputs": [
    {
     "name": "stdout",
     "output_type": "stream",
     "text": [
      "==============================\n",
      "CREATING SEASON CATEGORIES\n",
      "==============================\n",
      "season categories created: \n",
      "season\n",
      "Fall       6062\n",
      "Summer    32465\n",
      "Winter    11777\n",
      "Name: count, dtype: int64\n",
      "\n",
      "\n",
      "SAMPLE WITH SEASONS: \n"
     ]
    },
    {
     "data": {
      "text/html": [
       "<div>\n",
       "<style scoped>\n",
       "    .dataframe tbody tr th:only-of-type {\n",
       "        vertical-align: middle;\n",
       "    }\n",
       "\n",
       "    .dataframe tbody tr th {\n",
       "        vertical-align: top;\n",
       "    }\n",
       "\n",
       "    .dataframe thead th {\n",
       "        text-align: right;\n",
       "    }\n",
       "</style>\n",
       "<table border=\"1\" class=\"dataframe\">\n",
       "  <thead>\n",
       "    <tr style=\"text-align: right;\">\n",
       "      <th></th>\n",
       "      <th>last_review</th>\n",
       "      <th>month</th>\n",
       "      <th>season</th>\n",
       "      <th>reviews_per_month</th>\n",
       "    </tr>\n",
       "  </thead>\n",
       "  <tbody>\n",
       "    <tr>\n",
       "      <th>0</th>\n",
       "      <td>2021-10-19</td>\n",
       "      <td>10</td>\n",
       "      <td>Fall</td>\n",
       "      <td>0.21</td>\n",
       "    </tr>\n",
       "    <tr>\n",
       "      <th>1</th>\n",
       "      <td>2022-05-21</td>\n",
       "      <td>5</td>\n",
       "      <td>Summer</td>\n",
       "      <td>0.38</td>\n",
       "    </tr>\n",
       "    <tr>\n",
       "      <th>2</th>\n",
       "      <td>2018-11-19</td>\n",
       "      <td>11</td>\n",
       "      <td>Fall</td>\n",
       "      <td>0.10</td>\n",
       "    </tr>\n",
       "    <tr>\n",
       "      <th>3</th>\n",
       "      <td>2019-06-22</td>\n",
       "      <td>6</td>\n",
       "      <td>Summer</td>\n",
       "      <td>0.59</td>\n",
       "    </tr>\n",
       "    <tr>\n",
       "      <th>4</th>\n",
       "      <td>2019-06-24</td>\n",
       "      <td>6</td>\n",
       "      <td>Summer</td>\n",
       "      <td>3.47</td>\n",
       "    </tr>\n",
       "    <tr>\n",
       "      <th>5</th>\n",
       "      <td>2017-07-21</td>\n",
       "      <td>7</td>\n",
       "      <td>Summer</td>\n",
       "      <td>0.99</td>\n",
       "    </tr>\n",
       "    <tr>\n",
       "      <th>6</th>\n",
       "      <td>2019-06-22</td>\n",
       "      <td>6</td>\n",
       "      <td>Summer</td>\n",
       "      <td>0.43</td>\n",
       "    </tr>\n",
       "    <tr>\n",
       "      <th>7</th>\n",
       "      <td>2019-06-23</td>\n",
       "      <td>6</td>\n",
       "      <td>Summer</td>\n",
       "      <td>1.50</td>\n",
       "    </tr>\n",
       "    <tr>\n",
       "      <th>8</th>\n",
       "      <td>2019-06-24</td>\n",
       "      <td>6</td>\n",
       "      <td>Summer</td>\n",
       "      <td>1.34</td>\n",
       "    </tr>\n",
       "    <tr>\n",
       "      <th>9</th>\n",
       "      <td>2018-10-31</td>\n",
       "      <td>10</td>\n",
       "      <td>Fall</td>\n",
       "      <td>0.22</td>\n",
       "    </tr>\n",
       "  </tbody>\n",
       "</table>\n",
       "</div>"
      ],
      "text/plain": [
       "  last_review  month  season  reviews_per_month\n",
       "0  2021-10-19     10    Fall               0.21\n",
       "1  2022-05-21      5  Summer               0.38\n",
       "2  2018-11-19     11    Fall               0.10\n",
       "3  2019-06-22      6  Summer               0.59\n",
       "4  2019-06-24      6  Summer               3.47\n",
       "5  2017-07-21      7  Summer               0.99\n",
       "6  2019-06-22      6  Summer               0.43\n",
       "7  2019-06-23      6  Summer               1.50\n",
       "8  2019-06-24      6  Summer               1.34\n",
       "9  2018-10-31     10    Fall               0.22"
      ]
     },
     "execution_count": 14,
     "metadata": {},
     "output_type": "execute_result"
    }
   ],
   "source": [
    "print(\"=\" * 30)\n",
    "print(\"CREATING SEASON CATEGORIES\")\n",
    "print(\"=\" * 30)\n",
    "\n",
    "def assign_season(month):\n",
    "    if month in [12,1,2]:\n",
    "        return 'Winter'\n",
    "    elif month in [3,4,5]:\n",
    "        return 'Summer'\n",
    "    elif month in [6,7,8]:\n",
    "        return 'Summer'\n",
    "    else :  # month in 9.10,11\n",
    "        return 'Fall'\n",
    "\n",
    "df['season'] = df['month'].apply(assign_season)\n",
    "\n",
    "print(\"season categories created: \")\n",
    "print(df['season'].value_counts().sort_index())\n",
    "print('\\n')\n",
    "print(\"SAMPLE WITH SEASONS: \")\n",
    "df[['last_review','month','season','reviews_per_month']].head(10)"
   ]
  },
  {
   "cell_type": "code",
   "execution_count": 15,
   "id": "146aeeea",
   "metadata": {},
   "outputs": [
    {
     "data": {
      "text/html": [
       "<div>\n",
       "<style scoped>\n",
       "    .dataframe tbody tr th:only-of-type {\n",
       "        vertical-align: middle;\n",
       "    }\n",
       "\n",
       "    .dataframe tbody tr th {\n",
       "        vertical-align: top;\n",
       "    }\n",
       "\n",
       "    .dataframe thead th {\n",
       "        text-align: right;\n",
       "    }\n",
       "</style>\n",
       "<table border=\"1\" class=\"dataframe\">\n",
       "  <thead>\n",
       "    <tr style=\"text-align: right;\">\n",
       "      <th></th>\n",
       "      <th>month</th>\n",
       "      <th>season</th>\n",
       "      <th>is_peak_season</th>\n",
       "    </tr>\n",
       "  </thead>\n",
       "  <tbody>\n",
       "    <tr>\n",
       "      <th>0</th>\n",
       "      <td>10</td>\n",
       "      <td>Fall</td>\n",
       "      <td>0</td>\n",
       "    </tr>\n",
       "    <tr>\n",
       "      <th>1</th>\n",
       "      <td>5</td>\n",
       "      <td>Summer</td>\n",
       "      <td>0</td>\n",
       "    </tr>\n",
       "    <tr>\n",
       "      <th>2</th>\n",
       "      <td>11</td>\n",
       "      <td>Fall</td>\n",
       "      <td>0</td>\n",
       "    </tr>\n",
       "    <tr>\n",
       "      <th>3</th>\n",
       "      <td>6</td>\n",
       "      <td>Summer</td>\n",
       "      <td>1</td>\n",
       "    </tr>\n",
       "    <tr>\n",
       "      <th>4</th>\n",
       "      <td>6</td>\n",
       "      <td>Summer</td>\n",
       "      <td>1</td>\n",
       "    </tr>\n",
       "    <tr>\n",
       "      <th>5</th>\n",
       "      <td>7</td>\n",
       "      <td>Summer</td>\n",
       "      <td>1</td>\n",
       "    </tr>\n",
       "    <tr>\n",
       "      <th>6</th>\n",
       "      <td>6</td>\n",
       "      <td>Summer</td>\n",
       "      <td>1</td>\n",
       "    </tr>\n",
       "    <tr>\n",
       "      <th>7</th>\n",
       "      <td>6</td>\n",
       "      <td>Summer</td>\n",
       "      <td>1</td>\n",
       "    </tr>\n",
       "    <tr>\n",
       "      <th>8</th>\n",
       "      <td>6</td>\n",
       "      <td>Summer</td>\n",
       "      <td>1</td>\n",
       "    </tr>\n",
       "    <tr>\n",
       "      <th>9</th>\n",
       "      <td>10</td>\n",
       "      <td>Fall</td>\n",
       "      <td>0</td>\n",
       "    </tr>\n",
       "  </tbody>\n",
       "</table>\n",
       "</div>"
      ],
      "text/plain": [
       "   month  season  is_peak_season\n",
       "0     10    Fall               0\n",
       "1      5  Summer               0\n",
       "2     11    Fall               0\n",
       "3      6  Summer               1\n",
       "4      6  Summer               1\n",
       "5      7  Summer               1\n",
       "6      6  Summer               1\n",
       "7      6  Summer               1\n",
       "8      6  Summer               1\n",
       "9     10    Fall               0"
      ]
     },
     "execution_count": 15,
     "metadata": {},
     "output_type": "execute_result"
    }
   ],
   "source": [
    "def is_peak_season(month):\n",
    "    peak_months =[6,7,8,12]\n",
    "    return 1 if month in peak_months else 0\n",
    "\n",
    "df['is_peak_season'] = df['month'].apply(is_peak_season)\n",
    "\n",
    "df[['month','season','is_peak_season']].head(10)"
   ]
  },
  {
   "cell_type": "markdown",
   "id": "b85a2f1e",
   "metadata": {},
   "source": [
    "CREATING WEEKEND / WEEKDAY FLAG"
   ]
  },
  {
   "cell_type": "code",
   "execution_count": 16,
   "id": "09e145d5",
   "metadata": {},
   "outputs": [
    {
     "name": "stdout",
     "output_type": "stream",
     "text": [
      "==============================\n",
      "CREATING WEEKEND/WEEKDAY FLAGS\n",
      "==============================\n",
      "weekend flag created\n",
      "Weekday Reviews: 29,492\n",
      "Weekend Reviews: 20,812\n"
     ]
    }
   ],
   "source": [
    "print(\"=\"*30)\n",
    "print(\"CREATING WEEKEND/WEEKDAY FLAGS\")\n",
    "print(\"=\"*30)\n",
    "\n",
    "df['is_weekend'] = df['day_of_week'].isin([5, 6]).astype(int)\n",
    "print(\"weekend flag created\")\n",
    "print(f\"Weekday Reviews: {(df['is_weekend']==0).sum():,}\")\n",
    "print(f\"Weekend Reviews: {(df['is_weekend']==1).sum():,}\")"
   ]
  },
  {
   "cell_type": "code",
   "execution_count": 17,
   "id": "d9c1979b",
   "metadata": {},
   "outputs": [
    {
     "name": "stdout",
     "output_type": "stream",
     "text": [
      "\n",
      "DISTRIBUTION\n",
      "-> Average reviews/month on weekdays: 1.32\n",
      "-> Average reviews/month on weekends: 1.48\n"
     ]
    }
   ],
   "source": [
    "print(\"\\nDISTRIBUTION\")\n",
    "weekend_distribution = df.groupby('is_weekend')['reviews_per_month'].mean()\n",
    "print(f\"-> Average reviews/month on weekdays: {weekend_distribution[0]:.2f}\")\n",
    "print(f\"-> Average reviews/month on weekends: {weekend_distribution[1]:.2f}\")"
   ]
  },
  {
   "cell_type": "code",
   "execution_count": 18,
   "id": "c412d42a",
   "metadata": {},
   "outputs": [
    {
     "name": "stdout",
     "output_type": "stream",
     "text": [
      "==============================\n",
      "SEASONALITY SUMMARY\n",
      "==============================\n",
      "\n",
      "NEW FEATURES CREATED: 10\n",
      "1. year\n",
      "2. month\n",
      "3. day\n",
      "4. quarter\n",
      "5. day_of_week\n",
      "6. day_name\n",
      "7. week_of_year\n",
      "8. season\n",
      "9. is_weekend\n",
      "10. is_peak_season\n",
      "\n",
      " UPDATED DATASET: \n",
      " -> Total columns: 34\n",
      " -> New Date Features: 10\n",
      "\n",
      " SAMPLE WITH NEW FEATURES: \n"
     ]
    },
    {
     "data": {
      "text/html": [
       "<div>\n",
       "<style scoped>\n",
       "    .dataframe tbody tr th:only-of-type {\n",
       "        vertical-align: middle;\n",
       "    }\n",
       "\n",
       "    .dataframe tbody tr th {\n",
       "        vertical-align: top;\n",
       "    }\n",
       "\n",
       "    .dataframe thead th {\n",
       "        text-align: right;\n",
       "    }\n",
       "</style>\n",
       "<table border=\"1\" class=\"dataframe\">\n",
       "  <thead>\n",
       "    <tr style=\"text-align: right;\">\n",
       "      <th></th>\n",
       "      <th>last_review</th>\n",
       "      <th>year</th>\n",
       "      <th>month</th>\n",
       "      <th>quarter</th>\n",
       "      <th>season</th>\n",
       "      <th>day_name</th>\n",
       "      <th>is_weekend</th>\n",
       "      <th>price</th>\n",
       "      <th>reviews_per_month</th>\n",
       "      <th>is_peak_season</th>\n",
       "    </tr>\n",
       "  </thead>\n",
       "  <tbody>\n",
       "    <tr>\n",
       "      <th>0</th>\n",
       "      <td>2021-10-19</td>\n",
       "      <td>2021</td>\n",
       "      <td>10</td>\n",
       "      <td>4</td>\n",
       "      <td>Fall</td>\n",
       "      <td>Tuesday</td>\n",
       "      <td>0</td>\n",
       "      <td>966.0</td>\n",
       "      <td>0.21</td>\n",
       "      <td>0</td>\n",
       "    </tr>\n",
       "    <tr>\n",
       "      <th>1</th>\n",
       "      <td>2022-05-21</td>\n",
       "      <td>2022</td>\n",
       "      <td>5</td>\n",
       "      <td>2</td>\n",
       "      <td>Summer</td>\n",
       "      <td>Saturday</td>\n",
       "      <td>1</td>\n",
       "      <td>142.0</td>\n",
       "      <td>0.38</td>\n",
       "      <td>0</td>\n",
       "    </tr>\n",
       "    <tr>\n",
       "      <th>2</th>\n",
       "      <td>2018-11-19</td>\n",
       "      <td>2018</td>\n",
       "      <td>11</td>\n",
       "      <td>4</td>\n",
       "      <td>Fall</td>\n",
       "      <td>Monday</td>\n",
       "      <td>0</td>\n",
       "      <td>204.0</td>\n",
       "      <td>0.10</td>\n",
       "      <td>0</td>\n",
       "    </tr>\n",
       "    <tr>\n",
       "      <th>3</th>\n",
       "      <td>2019-06-22</td>\n",
       "      <td>2019</td>\n",
       "      <td>6</td>\n",
       "      <td>2</td>\n",
       "      <td>Summer</td>\n",
       "      <td>Saturday</td>\n",
       "      <td>1</td>\n",
       "      <td>577.0</td>\n",
       "      <td>0.59</td>\n",
       "      <td>1</td>\n",
       "    </tr>\n",
       "    <tr>\n",
       "      <th>4</th>\n",
       "      <td>2019-06-24</td>\n",
       "      <td>2019</td>\n",
       "      <td>6</td>\n",
       "      <td>2</td>\n",
       "      <td>Summer</td>\n",
       "      <td>Monday</td>\n",
       "      <td>0</td>\n",
       "      <td>1018.0</td>\n",
       "      <td>3.47</td>\n",
       "      <td>1</td>\n",
       "    </tr>\n",
       "  </tbody>\n",
       "</table>\n",
       "</div>"
      ],
      "text/plain": [
       "  last_review  year  month  quarter  season  day_name  is_weekend   price  \\\n",
       "0  2021-10-19  2021     10        4    Fall   Tuesday           0   966.0   \n",
       "1  2022-05-21  2022      5        2  Summer  Saturday           1   142.0   \n",
       "2  2018-11-19  2018     11        4    Fall    Monday           0   204.0   \n",
       "3  2019-06-22  2019      6        2  Summer  Saturday           1   577.0   \n",
       "4  2019-06-24  2019      6        2  Summer    Monday           0  1018.0   \n",
       "\n",
       "   reviews_per_month  is_peak_season  \n",
       "0               0.21               0  \n",
       "1               0.38               0  \n",
       "2               0.10               0  \n",
       "3               0.59               1  \n",
       "4               3.47               1  "
      ]
     },
     "execution_count": 18,
     "metadata": {},
     "output_type": "execute_result"
    }
   ],
   "source": [
    "print(\"=\"*30)\n",
    "print(\"SEASONALITY SUMMARY\")\n",
    "print(\"=\"*30)\n",
    "\n",
    "new_features=['year','month','day','quarter','day_of_week','day_name',\n",
    "              'week_of_year','season','is_weekend','is_peak_season']\n",
    "\n",
    "print(f\"\\nNEW FEATURES CREATED: {len(new_features)}\")\n",
    "for i, feature in enumerate(new_features,1):\n",
    "    print(f\"{i}. {feature}\")\n",
    "\n",
    "print(f\"\\n UPDATED DATASET: \")\n",
    "print(f\" -> Total columns: {len(df.columns)}\")\n",
    "print(f\" -> New Date Features: {len(new_features)}\")\n",
    "\n",
    "# All columns with new features\n",
    "print(\"\\n SAMPLE WITH NEW FEATURES: \")\n",
    "display_cols = ['last_review', 'year', 'month', 'quarter', 'season', \n",
    "                'day_name', 'is_weekend', 'price', 'reviews_per_month','is_peak_season']\n",
    "df[display_cols].head()"
   ]
  },
  {
   "cell_type": "markdown",
   "id": "cc6a3d83",
   "metadata": {},
   "source": [
    "##### **DEMAND INDICATORS**"
   ]
  },
  {
   "cell_type": "code",
   "execution_count": 19,
   "id": "3b66dc48",
   "metadata": {},
   "outputs": [
    {
     "name": "stdout",
     "output_type": "stream",
     "text": [
      "==============================\n",
      "DEMAND INDICATORS\n",
      "==============================\n",
      "\n",
      "REVIEWS PER MONTH DISTRIBUTION:\n"
     ]
    },
    {
     "data": {
      "text/plain": [
       "count    50304.000000\n",
       "mean         1.382406\n",
       "std          1.555272\n",
       "min          0.000000\n",
       "25%          0.230000\n",
       "50%          0.780000\n",
       "75%          2.090000\n",
       "max         25.230000\n",
       "Name: reviews_per_month, dtype: float64"
      ]
     },
     "execution_count": 19,
     "metadata": {},
     "output_type": "execute_result"
    }
   ],
   "source": [
    "print(\"=\"*30)\n",
    "print(\"DEMAND INDICATORS\")\n",
    "print(\"=\"*30)\n",
    "\n",
    "print(\"\\nREVIEWS PER MONTH DISTRIBUTION:\")\n",
    "df['reviews_per_month'].describe()"
   ]
  },
  {
   "cell_type": "code",
   "execution_count": 20,
   "id": "ac929174",
   "metadata": {},
   "outputs": [
    {
     "name": "stdout",
     "output_type": "stream",
     "text": [
      "\n",
      "Review Frequency categories created: \n"
     ]
    },
    {
     "data": {
      "text/plain": [
       "review_frequency_category\n",
       "Low          12633\n",
       "Medium       12594\n",
       "High         12538\n",
       "Very High    12539\n",
       "Name: count, dtype: int64"
      ]
     },
     "execution_count": 20,
     "metadata": {},
     "output_type": "execute_result"
    }
   ],
   "source": [
    "# Creating categories based on quartiles\n",
    "\n",
    "df['review_frequency_category'] = pd.qcut(\n",
    "    df['reviews_per_month'],\n",
    "    q=4,\n",
    "    labels =['Low','Medium','High','Very High'],\n",
    "    duplicates='drop'\n",
    ")\n",
    "\n",
    "print(\"\\nReview Frequency categories created: \")\n",
    "df['review_frequency_category'].value_counts().sort_index()"
   ]
  },
  {
   "cell_type": "code",
   "execution_count": 21,
   "id": "5f5c446e",
   "metadata": {},
   "outputs": [
    {
     "name": "stdout",
     "output_type": "stream",
     "text": [
      "\n",
      "Average price by review frequency: \n",
      "review_frequency_category\n",
      "Low          627.02\n",
      "Medium       628.33\n",
      "High         621.66\n",
      "Very High    626.82\n",
      "Name: price, dtype: float64\n"
     ]
    }
   ],
   "source": [
    "# Average price for frequencies\n",
    "\n",
    "print(\"\\nAverage price by review frequency: \")\n",
    "print(df.groupby('review_frequency_category')['price'].mean().round(2))"
   ]
  },
  {
   "cell_type": "code",
   "execution_count": 22,
   "id": "edfdded7",
   "metadata": {},
   "outputs": [
    {
     "name": "stdout",
     "output_type": "stream",
     "text": [
      "==============================\n",
      "AVAILABILITY ANALYSIS\n",
      "==============================\n",
      "\n",
      "AVAILABILITY_365 DISTRIBUTION:\n",
      "\n",
      "REVIEWS_PER_MONTH PERCENTILES:\n",
      "   0th percentile: 0.00\n",
      "   25th percentile: 0.23\n",
      "   50th percentile: 0.78\n",
      "   75th percentile: 2.09\n",
      "   90th percentile: 3.53\n",
      "   95th percentile: 4.47\n",
      "   99th percentile: 6.62\n",
      "   100th percentile: 25.23\n"
     ]
    }
   ],
   "source": [
    "print(\"=\"*30)\n",
    "print(\"AVAILABILITY ANALYSIS\")\n",
    "print(\"=\"*30)\n",
    "\n",
    "print(\"\\nAVAILABILITY_365 DISTRIBUTION:\")\n",
    "df['availability_365'].describe()\n",
    "\n",
    "print(\"\\nREVIEWS_PER_MONTH PERCENTILES:\")\n",
    "percentiles = [0, 25, 50, 75, 90, 95, 99, 100]\n",
    "for p in percentiles:\n",
    "    value = df['reviews_per_month'].quantile(p/100)\n",
    "    print(f\"   {p}th percentile: {value:.2f}\")\n",
    "\n"
   ]
  },
  {
   "cell_type": "code",
   "execution_count": 23,
   "id": "fa448a42",
   "metadata": {},
   "outputs": [
    {
     "name": "stdout",
     "output_type": "stream",
     "text": [
      "\n",
      "Demand Score Recalculated (Percentile-based):\n",
      "   • Mean: 59.88\n",
      "   • Median: 60.00\n",
      "   • Distribution:\n",
      "demand_score\n",
      "20.0     10111\n",
      "40.0     10114\n",
      "60.0     10014\n",
      "80.0     10102\n",
      "100.0     9963\n",
      "Name: count, dtype: int64\n"
     ]
    }
   ],
   "source": [
    "df['demand_score'] = pd.qcut(\n",
    "    df['reviews_per_month'],\n",
    "    q=5,\n",
    "    labels=[20, 40, 60, 80, 100],\n",
    "    duplicates='drop'\n",
    ").astype(float)\n",
    "\n",
    "print(\"\\nDemand Score Recalculated (Percentile-based):\")\n",
    "print(f\"   • Mean: {df['demand_score'].mean():.2f}\")\n",
    "print(f\"   • Median: {df['demand_score'].median():.2f}\")\n",
    "print(f\"   • Distribution:\")\n",
    "print(df['demand_score'].value_counts().sort_index())\n",
    "\n",
    "# Recreate demand level categories\n",
    "df['demand_level'] = pd.cut(\n",
    "    df['demand_score'],\n",
    "    bins=[0, 25, 50, 75, 100],\n",
    "    labels=['Low', 'Medium', 'High', 'Very High'],\n",
    "    include_lowest=True\n",
    ")"
   ]
  },
  {
   "cell_type": "code",
   "execution_count": 24,
   "id": "88eacabe",
   "metadata": {},
   "outputs": [
    {
     "name": "stdout",
     "output_type": "stream",
     "text": [
      "\n",
      "NEW DEMAND LEVEL DISTRIBUTION:\n",
      "demand_level\n",
      "Low          10111\n",
      "Medium       10114\n",
      "High         10014\n",
      "Very High    20065\n",
      "Name: count, dtype: int64\n",
      "\n",
      "SAMPLE - CORRECTED DEMAND INDICATORS:\n",
      "    reviews_per_month  demand_score demand_level\n",
      "0                0.21          40.0       Medium\n",
      "1                0.38          40.0       Medium\n",
      "2                0.10          20.0          Low\n",
      "3                0.59          60.0         High\n",
      "4                3.47         100.0    Very High\n",
      "5                0.99          60.0         High\n",
      "6                0.43          40.0       Medium\n",
      "7                1.50          80.0    Very High\n",
      "8                1.34          80.0    Very High\n",
      "9                0.22          40.0       Medium\n",
      "10               1.20          80.0    Very High\n",
      "11               1.72          80.0    Very High\n",
      "12               4.44         100.0    Very High\n",
      "13               0.07          20.0          Low\n",
      "14               0.73          60.0         High\n",
      "\n",
      "INTERPRETATION:\n",
      "   • Low: 0 reviews/month to 25th percentile\n",
      "   • Medium: 25th to 50th percentile\n",
      "   • High: 50th to 75th percentile\n",
      "   • Very High: 75th percentile and above\n"
     ]
    }
   ],
   "source": [
    "print(\"\\nNEW DEMAND LEVEL DISTRIBUTION:\")\n",
    "print(df['demand_level'].value_counts().sort_index())\n",
    "\n",
    "print(\"\\nSAMPLE - CORRECTED DEMAND INDICATORS:\")\n",
    "print(df[['reviews_per_month', 'demand_score', 'demand_level']].head(15))\n",
    "\n",
    "print(\"\\nINTERPRETATION:\")\n",
    "print(\"   • Low: 0 reviews/month to 25th percentile\")\n",
    "print(\"   • Medium: 25th to 50th percentile\")\n",
    "print(\"   • High: 50th to 75th percentile\")\n",
    "print(\"   • Very High: 75th percentile and above\")"
   ]
  },
  {
   "cell_type": "markdown",
   "id": "539b93f2",
   "metadata": {},
   "source": [
    "##### **PRICE CATEGORIES**"
   ]
  },
  {
   "cell_type": "code",
   "execution_count": 25,
   "id": "67a93d36",
   "metadata": {},
   "outputs": [
    {
     "name": "stdout",
     "output_type": "stream",
     "text": [
      "==============================\n",
      "PRICE CATEGORIES\n",
      "==============================\n",
      "\n",
      "PRICE DISTRIBUTION: \n"
     ]
    },
    {
     "data": {
      "text/plain": [
       "count    50304.000000\n",
       "mean       625.962707\n",
       "std        331.710646\n",
       "min         50.000000\n",
       "25%        339.000000\n",
       "50%        626.000000\n",
       "75%        913.000000\n",
       "max       1200.000000\n",
       "Name: price, dtype: float64"
      ]
     },
     "execution_count": 25,
     "metadata": {},
     "output_type": "execute_result"
    }
   ],
   "source": [
    "print(\"=\"*30)\n",
    "print(\"PRICE CATEGORIES\")\n",
    "print(\"=\"*30)\n",
    "\n",
    "print(\"\\nPRICE DISTRIBUTION: \")\n",
    "df['price'].describe()"
   ]
  },
  {
   "cell_type": "code",
   "execution_count": 26,
   "id": "c9546935",
   "metadata": {},
   "outputs": [
    {
     "name": "stdout",
     "output_type": "stream",
     "text": [
      "\n",
      "PRICE PERCENTILES: \n",
      " 10th percentile: $164.00\n",
      " 25th percentile: $339.00\n",
      " 50th percentile: $626.00\n",
      " 75th percentile: $913.00\n",
      " 90th percentile: $1084.00\n",
      " 95th percentile: $1143.00\n",
      " 99th percentile: $1189.00\n"
     ]
    }
   ],
   "source": [
    "# PRICE OUTLIERS\n",
    "print(\"\\nPRICE PERCENTILES: \")\n",
    "percentiles=[10,25,50,75,90,95,99]\n",
    "for p in percentiles:\n",
    "    value = df['price'].quantile(p/100)\n",
    "    print(f\" {p}th percentile: ${value:.2f}\")"
   ]
  },
  {
   "cell_type": "code",
   "execution_count": 27,
   "id": "03b6d5ad",
   "metadata": {},
   "outputs": [
    {
     "name": "stdout",
     "output_type": "stream",
     "text": [
      "\n",
      "CREATING PRICE CATEGORIES\n",
      "------------------------------\n",
      "\n",
      "Price Tiers Created: \n",
      "price_tier\n",
      "Budget       12580\n",
      "Mid-Range    12607\n",
      "Upscale      12563\n",
      "Luxury       12554\n",
      "Name: count, dtype: int64\n"
     ]
    }
   ],
   "source": [
    "print(\"\\nCREATING PRICE CATEGORIES\")\n",
    "print(\"-\"*30)\n",
    "\n",
    "df['price_tier']=pd.qcut(\n",
    "    df['price'],\n",
    "    q=4,\n",
    "    labels=['Budget','Mid-Range','Upscale','Luxury'],\n",
    "    duplicates='drop'\n",
    ")\n",
    "\n",
    "print(\"\\nPrice Tiers Created: \")\n",
    "print(df['price_tier'].value_counts().sort_index())"
   ]
  },
  {
   "cell_type": "code",
   "execution_count": 28,
   "id": "fb36ecea",
   "metadata": {},
   "outputs": [
    {
     "name": "stdout",
     "output_type": "stream",
     "text": [
      "\n",
      "PRICE RANGES BY TIER: \n",
      "              min     max         mean  count\n",
      "price_tier                                   \n",
      "Budget       50.0   339.0   194.134897  12580\n",
      "Mid-Range   340.0   626.0   484.714286  12607\n",
      "Upscale     627.0   913.0   769.476001  12563\n",
      "Luxury      914.0  1200.0  1056.913414  12554\n",
      "\n",
      "AVERAGE REVIEWS BY PRICE TIER: \n",
      "price_tier\n",
      "Budget       1.37\n",
      "Mid-Range    1.40\n",
      "Upscale      1.36\n",
      "Luxury       1.40\n",
      "Name: reviews_per_month, dtype: float64\n"
     ]
    }
   ],
   "source": [
    "print(\"\\nPRICE RANGES BY TIER: \")\n",
    "price_by_tier=df.groupby('price_tier')['price'].agg(['min','max','mean','count'])\n",
    "print(price_by_tier)\n",
    "\n",
    "print(\"\\nAVERAGE REVIEWS BY PRICE TIER: \")\n",
    "reviews_by_price=df.groupby('price_tier')['reviews_per_month'].mean()\n",
    "print(reviews_by_price.round(2))"
   ]
  },
  {
   "cell_type": "code",
   "execution_count": 29,
   "id": "fd627867",
   "metadata": {},
   "outputs": [
    {
     "name": "stdout",
     "output_type": "stream",
     "text": [
      "\n",
      "VALUE SCORE: Price vs Demand\n",
      "------------------------------\n",
      "\n",
      " Value Score Created (Reviews per $100)\n",
      " -> Mean: 0.38\n",
      " -> Median: 0.15\n",
      " -> Min: 0.00\n",
      " -> Max: 18.41\n"
     ]
    }
   ],
   "source": [
    "print(\"\\nVALUE SCORE: Price vs Demand\")\n",
    "print(\"-\"*30)\n",
    "\n",
    "# value score = how many reviews per dollar spent\n",
    "df['value_score'] = (df['reviews_per_month']/df['price']*100).round(2)\n",
    "\n",
    "print(\"\\n Value Score Created (Reviews per $100)\")\n",
    "print(f\" -> Mean: {df['value_score'].mean():.2f}\")\n",
    "print(f\" -> Median: {df['value_score'].median():.2f}\")\n",
    "print(f\" -> Min: {df['value_score'].min():.2f}\")\n",
    "print(f\" -> Max: {df['value_score'].max():.2f}\")"
   ]
  },
  {
   "cell_type": "code",
   "execution_count": 30,
   "id": "6fca4847",
   "metadata": {},
   "outputs": [
    {
     "name": "stdout",
     "output_type": "stream",
     "text": [
      "\n",
      "VALUE CATEGORIES DISTRIBUTION: \n",
      "value_category\n",
      "Low Value          17920\n",
      "Good Value         15930\n",
      "Excellent Value    16454\n",
      "Name: count, dtype: int64\n"
     ]
    }
   ],
   "source": [
    "# CREATE VALUE CATEGORIES\n",
    "df['value_category'] = pd.qcut(\n",
    "    df['value_score'],\n",
    "    q=3,\n",
    "    labels= ['Low Value','Good Value','Excellent Value'],\n",
    "    duplicates= 'drop'\n",
    ")\n",
    "\n",
    "print(\"\\nVALUE CATEGORIES DISTRIBUTION: \")\n",
    "print(df['value_category'].value_counts().sort_index())"
   ]
  },
  {
   "cell_type": "code",
   "execution_count": 31,
   "id": "207bf8e5",
   "metadata": {},
   "outputs": [
    {
     "name": "stdout",
     "output_type": "stream",
     "text": [
      "\n",
      "INTERPRETATION: \n"
     ]
    },
    {
     "data": {
      "text/html": [
       "<div>\n",
       "<style scoped>\n",
       "    .dataframe tbody tr th:only-of-type {\n",
       "        vertical-align: middle;\n",
       "    }\n",
       "\n",
       "    .dataframe tbody tr th {\n",
       "        vertical-align: top;\n",
       "    }\n",
       "\n",
       "    .dataframe thead th {\n",
       "        text-align: right;\n",
       "    }\n",
       "</style>\n",
       "<table border=\"1\" class=\"dataframe\">\n",
       "  <thead>\n",
       "    <tr style=\"text-align: right;\">\n",
       "      <th></th>\n",
       "      <th>price</th>\n",
       "      <th>reviews_per_month</th>\n",
       "      <th>price_tier</th>\n",
       "      <th>value_score</th>\n",
       "      <th>value_category</th>\n",
       "    </tr>\n",
       "  </thead>\n",
       "  <tbody>\n",
       "    <tr>\n",
       "      <th>0</th>\n",
       "      <td>966.0</td>\n",
       "      <td>0.21</td>\n",
       "      <td>Luxury</td>\n",
       "      <td>0.02</td>\n",
       "      <td>Low Value</td>\n",
       "    </tr>\n",
       "    <tr>\n",
       "      <th>1</th>\n",
       "      <td>142.0</td>\n",
       "      <td>0.38</td>\n",
       "      <td>Budget</td>\n",
       "      <td>0.27</td>\n",
       "      <td>Good Value</td>\n",
       "    </tr>\n",
       "    <tr>\n",
       "      <th>2</th>\n",
       "      <td>204.0</td>\n",
       "      <td>0.10</td>\n",
       "      <td>Budget</td>\n",
       "      <td>0.05</td>\n",
       "      <td>Low Value</td>\n",
       "    </tr>\n",
       "    <tr>\n",
       "      <th>3</th>\n",
       "      <td>577.0</td>\n",
       "      <td>0.59</td>\n",
       "      <td>Mid-Range</td>\n",
       "      <td>0.10</td>\n",
       "      <td>Good Value</td>\n",
       "    </tr>\n",
       "    <tr>\n",
       "      <th>4</th>\n",
       "      <td>1018.0</td>\n",
       "      <td>3.47</td>\n",
       "      <td>Luxury</td>\n",
       "      <td>0.34</td>\n",
       "      <td>Excellent Value</td>\n",
       "    </tr>\n",
       "    <tr>\n",
       "      <th>5</th>\n",
       "      <td>291.0</td>\n",
       "      <td>0.99</td>\n",
       "      <td>Budget</td>\n",
       "      <td>0.34</td>\n",
       "      <td>Excellent Value</td>\n",
       "    </tr>\n",
       "    <tr>\n",
       "      <th>6</th>\n",
       "      <td>606.0</td>\n",
       "      <td>0.43</td>\n",
       "      <td>Mid-Range</td>\n",
       "      <td>0.07</td>\n",
       "      <td>Low Value</td>\n",
       "    </tr>\n",
       "    <tr>\n",
       "      <th>7</th>\n",
       "      <td>714.0</td>\n",
       "      <td>1.50</td>\n",
       "      <td>Upscale</td>\n",
       "      <td>0.21</td>\n",
       "      <td>Good Value</td>\n",
       "    </tr>\n",
       "    <tr>\n",
       "      <th>8</th>\n",
       "      <td>580.0</td>\n",
       "      <td>1.34</td>\n",
       "      <td>Mid-Range</td>\n",
       "      <td>0.23</td>\n",
       "      <td>Good Value</td>\n",
       "    </tr>\n",
       "    <tr>\n",
       "      <th>9</th>\n",
       "      <td>578.0</td>\n",
       "      <td>0.22</td>\n",
       "      <td>Mid-Range</td>\n",
       "      <td>0.04</td>\n",
       "      <td>Low Value</td>\n",
       "    </tr>\n",
       "  </tbody>\n",
       "</table>\n",
       "</div>"
      ],
      "text/plain": [
       "    price  reviews_per_month price_tier  value_score   value_category\n",
       "0   966.0               0.21     Luxury         0.02        Low Value\n",
       "1   142.0               0.38     Budget         0.27       Good Value\n",
       "2   204.0               0.10     Budget         0.05        Low Value\n",
       "3   577.0               0.59  Mid-Range         0.10       Good Value\n",
       "4  1018.0               3.47     Luxury         0.34  Excellent Value\n",
       "5   291.0               0.99     Budget         0.34  Excellent Value\n",
       "6   606.0               0.43  Mid-Range         0.07        Low Value\n",
       "7   714.0               1.50    Upscale         0.21       Good Value\n",
       "8   580.0               1.34  Mid-Range         0.23       Good Value\n",
       "9   578.0               0.22  Mid-Range         0.04        Low Value"
      ]
     },
     "execution_count": 31,
     "metadata": {},
     "output_type": "execute_result"
    }
   ],
   "source": [
    "print(\"\\nINTERPRETATION: \")\n",
    "df[['price','reviews_per_month','price_tier','value_score','value_category']].head(10)"
   ]
  },
  {
   "cell_type": "markdown",
   "id": "662b7e07",
   "metadata": {},
   "source": [
    "##### **BOOKING PATTERNS**"
   ]
  },
  {
   "cell_type": "code",
   "execution_count": 32,
   "id": "cc2fe677",
   "metadata": {},
   "outputs": [
    {
     "name": "stdout",
     "output_type": "stream",
     "text": [
      "\n",
      "BOOKING PATTERNS\n",
      "--------------------\n",
      "\n",
      "MINIMUM NIGHTS DISTRIBUTIONS: \n",
      "count    50304.000000\n",
      "mean         7.243857\n",
      "std         15.525397\n",
      "min          1.000000\n",
      "25%          2.000000\n",
      "50%          3.000000\n",
      "75%          5.000000\n",
      "max        365.000000\n",
      "Name: minimum_nights, dtype: float64\n",
      "\n",
      "MINIMUM NIGHTS PERCENTILES: \n",
      " 10th percentile: 1 nights\n",
      " 25th percentile: 2 nights\n",
      " 50th percentile: 3 nights\n",
      " 75th percentile: 5 nights\n",
      " 90th percentile: 30 nights\n",
      " 95th percentile: 30 nights\n"
     ]
    }
   ],
   "source": [
    "print(\"\\nBOOKING PATTERNS\")\n",
    "print(\"-\"*20)\n",
    "\n",
    "print(\"\\nMINIMUM NIGHTS DISTRIBUTIONS: \")\n",
    "print(df['minimum_nights'].describe())\n",
    "\n",
    "print(\"\\nMINIMUM NIGHTS PERCENTILES: \")\n",
    "percentiles=[10,25,50,75,90,95]\n",
    "for p in percentiles:\n",
    "    value=df['minimum_nights'].quantile(p/100)\n",
    "    print(f\" {p}th percentile: {value:.0f} nights\")"
   ]
  },
  {
   "cell_type": "code",
   "execution_count": 33,
   "id": "8fbf8b89",
   "metadata": {},
   "outputs": [
    {
     "name": "stdout",
     "output_type": "stream",
     "text": [
      "CREATING STAY LENGTH CATEGORIES\n",
      "------------------------------\n",
      "Stay length categories created: \n",
      "stay_length_category\n",
      "Weekly       29503\n",
      "Nightly      12459\n",
      "Monthly       7664\n",
      "Long-term      678\n",
      "Name: count, dtype: int64\n"
     ]
    }
   ],
   "source": [
    "print(\"CREATING STAY LENGTH CATEGORIES\")\n",
    "print(\"-\"*30)\n",
    "\n",
    "def categorize_stay(nights):\n",
    "    if nights <= 1:\n",
    "        return 'Nightly'\n",
    "    elif nights <= 7:\n",
    "        return 'Weekly'\n",
    "    elif nights <=30:\n",
    "        return 'Monthly'\n",
    "    else:\n",
    "        return 'Long-term'\n",
    "    \n",
    "df['stay_length_category'] = df['minimum_nights'].apply(categorize_stay)\n",
    "print(\"Stay length categories created: \")\n",
    "print(df['stay_length_category'].value_counts())"
   ]
  },
  {
   "cell_type": "code",
   "execution_count": 34,
   "id": "c7897dce",
   "metadata": {},
   "outputs": [
    {
     "name": "stdout",
     "output_type": "stream",
     "text": [
      "\n",
      "REVIEWS BY STAY TYPE: \n",
      "                      mean  median  count\n",
      "stay_length_category                     \n",
      "Long-term             0.56    0.27    678\n",
      "Monthly               0.53    0.29   7664\n",
      "Nightly               2.07    1.41  12459\n",
      "Weekly                1.33    0.89  29503\n"
     ]
    }
   ],
   "source": [
    "print(\"\\nREVIEWS BY STAY TYPE: \")\n",
    "stay_reviews= df.groupby('stay_length_category')['reviews_per_month'].agg(['mean','median','count'])\n",
    "print(stay_reviews.round(2))"
   ]
  },
  {
   "cell_type": "code",
   "execution_count": 35,
   "id": "a7ceada8",
   "metadata": {},
   "outputs": [
    {
     "name": "stdout",
     "output_type": "stream",
     "text": [
      "\n",
      "INTERPRETATION:\n",
      "   • Nightly: Most flexible - attracts tourists/travelers\n",
      "   • Weekly: Standard short-term rentals\n",
      "   • Monthly: Targets longer stays - less turnover\n",
      "   • Long-term: Corporate/relocation - stable income\n"
     ]
    }
   ],
   "source": [
    "print(\"\\nINTERPRETATION:\")\n",
    "print(\"   • Nightly: Most flexible - attracts tourists/travelers\")\n",
    "print(\"   • Weekly: Standard short-term rentals\")\n",
    "print(\"   • Monthly: Targets longer stays - less turnover\")\n",
    "print(\"   • Long-term: Corporate/relocation - stable income\")"
   ]
  },
  {
   "cell_type": "code",
   "execution_count": 36,
   "id": "21b3ac99",
   "metadata": {},
   "outputs": [
    {
     "name": "stdout",
     "output_type": "stream",
     "text": [
      "BOOKING FLEXIBILITY ANALYSIS\n",
      "------------------------------\n",
      "\n",
      "FLEXIBILITY SCORE CREATED (1-10 SCALE): \n",
      " -> 10 = Very Flexible (nightly)\n",
      " -> 7 = Flexible (weekly)\n",
      " -> 4 = Moderate (monthly)\n",
      " -> 1 = Rigid (30+ days)\n"
     ]
    }
   ],
   "source": [
    "print(\"BOOKING FLEXIBILITY ANALYSIS\")\n",
    "print(\"-\" * 30)\n",
    "\n",
    "# create flexibility score: shorter minimum nights = more flexible=10, longer=1\n",
    "df['flexibility_score'] = pd.cut(\n",
    "    df['minimum_nights'],\n",
    "    bins=[-1, 1, 7, 30, 365],\n",
    "    labels=[10, 7, 4, 1],\n",
    "    include_lowest=True\n",
    ").astype(float)\n",
    "\n",
    "print(\"\\nFLEXIBILITY SCORE CREATED (1-10 SCALE): \")\n",
    "print(f\" -> 10 = Very Flexible (nightly)\")\n",
    "print(f\" -> 7 = Flexible (weekly)\")\n",
    "print(f\" -> 4 = Moderate (monthly)\")\n",
    "print(f\" -> 1 = Rigid (30+ days)\")"
   ]
  },
  {
   "cell_type": "code",
   "execution_count": 37,
   "id": "70afee8d",
   "metadata": {},
   "outputs": [
    {
     "name": "stdout",
     "output_type": "stream",
     "text": [
      "\n",
      "DISTRIBUTION: \n",
      "flexibility_score\n",
      "10.0    12459\n",
      "7.0     29503\n",
      "4.0      7664\n",
      "1.0       678\n",
      "Name: count, dtype: int64\n",
      "\n",
      "DEMAND BY FLEXIBILITY: \n",
      "flexibility_score\n",
      "1.0     0.558\n",
      "4.0     0.530\n",
      "7.0     1.332\n",
      "10.0    2.072\n",
      "Name: reviews_per_month, dtype: float64\n",
      "\n",
      "KEY FINDING: \n",
      " -> Minimum stay length has similar impact on all listings\n"
     ]
    }
   ],
   "source": [
    "print(\"\\nDISTRIBUTION: \")\n",
    "print(df['flexibility_score'].value_counts().sort_index(ascending=False))\n",
    "\n",
    "print(\"\\nDEMAND BY FLEXIBILITY: \")\n",
    "flex_demand=df.groupby('flexibility_score')['reviews_per_month'].mean()\n",
    "print(flex_demand.round(3))\n",
    "\n",
    "print(\"\\nKEY FINDING: \")\n",
    "if flex_demand.iloc[0] > flex_demand.iloc[-1]:\n",
    "    print(f\" -> More flexible listings get MORE bookings ({flex_demand.iloc[0]:.2f} vs {flex_demand.iloc[-1]:.2f} reviews/month)\")\n",
    "else:\n",
    "    print(f\" -> Minimum stay length has similar impact on all listings\")"
   ]
  },
  {
   "cell_type": "code",
   "execution_count": 38,
   "id": "036cadae",
   "metadata": {},
   "outputs": [
    {
     "name": "stdout",
     "output_type": "stream",
     "text": [
      "SEASONALITY BY BOOKING TYPE\n",
      "------------------------------\n",
      "DEMAND BY SEASON AND STAY TYPE: \n",
      "                             mean  count\n",
      "season stay_length_category             \n",
      "Fall   Long-term             0.33    115\n",
      "       Monthly               0.41   1466\n",
      "       Nightly               0.54   1195\n",
      "       Weekly                0.37   3286\n",
      "Summer Long-term             0.65    409\n",
      "       Monthly               0.56   4059\n",
      "       Nightly               2.21   8082\n",
      "       Weekly                1.46  19915\n",
      "Winter Long-term             0.49    154\n",
      "       Monthly               0.55   2139\n",
      "       Nightly               2.29   3182\n",
      "       Weekly                1.42   6302\n",
      "\n",
      "SAMPLE - BOOKING PATTERNS: \n"
     ]
    },
    {
     "data": {
      "text/html": [
       "<div>\n",
       "<style scoped>\n",
       "    .dataframe tbody tr th:only-of-type {\n",
       "        vertical-align: middle;\n",
       "    }\n",
       "\n",
       "    .dataframe tbody tr th {\n",
       "        vertical-align: top;\n",
       "    }\n",
       "\n",
       "    .dataframe thead th {\n",
       "        text-align: right;\n",
       "    }\n",
       "</style>\n",
       "<table border=\"1\" class=\"dataframe\">\n",
       "  <thead>\n",
       "    <tr style=\"text-align: right;\">\n",
       "      <th></th>\n",
       "      <th>minimum_nights</th>\n",
       "      <th>stay_length_category</th>\n",
       "      <th>flexibility_score</th>\n",
       "      <th>season</th>\n",
       "      <th>reviews_per_month</th>\n",
       "      <th>demand_level</th>\n",
       "    </tr>\n",
       "  </thead>\n",
       "  <tbody>\n",
       "    <tr>\n",
       "      <th>0</th>\n",
       "      <td>10.0</td>\n",
       "      <td>Monthly</td>\n",
       "      <td>4.0</td>\n",
       "      <td>Fall</td>\n",
       "      <td>0.21</td>\n",
       "      <td>Medium</td>\n",
       "    </tr>\n",
       "    <tr>\n",
       "      <th>1</th>\n",
       "      <td>30.0</td>\n",
       "      <td>Monthly</td>\n",
       "      <td>4.0</td>\n",
       "      <td>Summer</td>\n",
       "      <td>0.38</td>\n",
       "      <td>Medium</td>\n",
       "    </tr>\n",
       "    <tr>\n",
       "      <th>2</th>\n",
       "      <td>10.0</td>\n",
       "      <td>Monthly</td>\n",
       "      <td>4.0</td>\n",
       "      <td>Fall</td>\n",
       "      <td>0.10</td>\n",
       "      <td>Low</td>\n",
       "    </tr>\n",
       "    <tr>\n",
       "      <th>3</th>\n",
       "      <td>3.0</td>\n",
       "      <td>Weekly</td>\n",
       "      <td>7.0</td>\n",
       "      <td>Summer</td>\n",
       "      <td>0.59</td>\n",
       "      <td>High</td>\n",
       "    </tr>\n",
       "    <tr>\n",
       "      <th>4</th>\n",
       "      <td>2.0</td>\n",
       "      <td>Weekly</td>\n",
       "      <td>7.0</td>\n",
       "      <td>Summer</td>\n",
       "      <td>3.47</td>\n",
       "      <td>Very High</td>\n",
       "    </tr>\n",
       "    <tr>\n",
       "      <th>5</th>\n",
       "      <td>2.0</td>\n",
       "      <td>Weekly</td>\n",
       "      <td>7.0</td>\n",
       "      <td>Summer</td>\n",
       "      <td>0.99</td>\n",
       "      <td>High</td>\n",
       "    </tr>\n",
       "    <tr>\n",
       "      <th>6</th>\n",
       "      <td>5.0</td>\n",
       "      <td>Weekly</td>\n",
       "      <td>7.0</td>\n",
       "      <td>Summer</td>\n",
       "      <td>0.43</td>\n",
       "      <td>Medium</td>\n",
       "    </tr>\n",
       "    <tr>\n",
       "      <th>7</th>\n",
       "      <td>2.0</td>\n",
       "      <td>Weekly</td>\n",
       "      <td>7.0</td>\n",
       "      <td>Summer</td>\n",
       "      <td>1.50</td>\n",
       "      <td>Very High</td>\n",
       "    </tr>\n",
       "    <tr>\n",
       "      <th>8</th>\n",
       "      <td>4.0</td>\n",
       "      <td>Weekly</td>\n",
       "      <td>7.0</td>\n",
       "      <td>Summer</td>\n",
       "      <td>1.34</td>\n",
       "      <td>Very High</td>\n",
       "    </tr>\n",
       "    <tr>\n",
       "      <th>9</th>\n",
       "      <td>90.0</td>\n",
       "      <td>Long-term</td>\n",
       "      <td>1.0</td>\n",
       "      <td>Fall</td>\n",
       "      <td>0.22</td>\n",
       "      <td>Medium</td>\n",
       "    </tr>\n",
       "  </tbody>\n",
       "</table>\n",
       "</div>"
      ],
      "text/plain": [
       "   minimum_nights stay_length_category  flexibility_score  season  \\\n",
       "0            10.0              Monthly                4.0    Fall   \n",
       "1            30.0              Monthly                4.0  Summer   \n",
       "2            10.0              Monthly                4.0    Fall   \n",
       "3             3.0               Weekly                7.0  Summer   \n",
       "4             2.0               Weekly                7.0  Summer   \n",
       "5             2.0               Weekly                7.0  Summer   \n",
       "6             5.0               Weekly                7.0  Summer   \n",
       "7             2.0               Weekly                7.0  Summer   \n",
       "8             4.0               Weekly                7.0  Summer   \n",
       "9            90.0            Long-term                1.0    Fall   \n",
       "\n",
       "   reviews_per_month demand_level  \n",
       "0               0.21       Medium  \n",
       "1               0.38       Medium  \n",
       "2               0.10          Low  \n",
       "3               0.59         High  \n",
       "4               3.47    Very High  \n",
       "5               0.99         High  \n",
       "6               0.43       Medium  \n",
       "7               1.50    Very High  \n",
       "8               1.34    Very High  \n",
       "9               0.22       Medium  "
      ]
     },
     "execution_count": 38,
     "metadata": {},
     "output_type": "execute_result"
    }
   ],
   "source": [
    "print(\"SEASONALITY BY BOOKING TYPE\")\n",
    "print(\"-\"*30)\n",
    "\n",
    "seasonality_by_type = df.groupby(['season','stay_length_category'])['reviews_per_month'].agg(['mean','count']).round(2)\n",
    "print(\"DEMAND BY SEASON AND STAY TYPE: \")\n",
    "print(seasonality_by_type)\n",
    "\n",
    "print(\"\\nSAMPLE - BOOKING PATTERNS: \")\n",
    "df[['minimum_nights', 'stay_length_category', 'flexibility_score', \n",
    "         'season', 'reviews_per_month', 'demand_level']].head(10)"
   ]
  },
  {
   "cell_type": "markdown",
   "id": "717a73f9",
   "metadata": {},
   "source": [
    "##### **VALIDATION & SUMMARY**"
   ]
  },
  {
   "cell_type": "code",
   "execution_count": 39,
   "id": "75b3bc1f",
   "metadata": {},
   "outputs": [
    {
     "name": "stdout",
     "output_type": "stream",
     "text": [
      "VALIDATION & SUMMARY\n",
      "------------------------------\n",
      "\n",
      "Features created: \n",
      "\n",
      "Time-Based Features: 8\n",
      " -> year\n",
      " -> month\n",
      " -> quarter\n",
      " -> day_of_week\n",
      " -> day_name\n",
      " -> week_of_year\n",
      " -> is_weekend\n",
      " -> is_peak_season\n",
      "\n",
      "Seasonality Features: 1\n",
      " -> season\n",
      "\n",
      "Demand Indicators: 3\n",
      " -> review_frequency_category\n",
      " -> demand_score\n",
      " -> demand_level\n",
      "\n",
      "Price Features: 3\n",
      " -> price_tier\n",
      " -> value_score\n",
      " -> value_category\n",
      "\n",
      "Booking Patterns: 2\n",
      " -> stay_length_category\n",
      " -> flexibility_score\n",
      "\n",
      "TOTAL NEW FEATURES CREATED: 17\n",
      " -> Original columns: 27\n",
      " -> New Columns: 15\n",
      " -> Total Columns: 42\n"
     ]
    }
   ],
   "source": [
    "print(\"VALIDATION & SUMMARY\")\n",
    "print(\"-\"*30)\n",
    "\n",
    "print(\"\\nFeatures created: \")\n",
    "features_by_category = {\n",
    "    'Time-Based Features': ['year', 'month', 'quarter', 'day_of_week', 'day_name', \n",
    "                            'week_of_year', 'is_weekend', 'is_peak_season'],\n",
    "    'Seasonality Features': ['season'],\n",
    "    'Demand Indicators': ['review_frequency_category', 'availability_category', \n",
    "                          'demand_score', 'demand_level'],\n",
    "    'Price Features': ['price_tier', 'value_score', 'value_category'],\n",
    "    'Booking Patterns': ['stay_length_category', 'flexibility_score']\n",
    "}\n",
    "\n",
    "total_features=0\n",
    "for category,features in features_by_category.items():\n",
    "    existing_features =[ f for f in features if f in df.columns]\n",
    "    total_features += len(existing_features)\n",
    "    print(f\"\\n{category}: {len(existing_features)}\")\n",
    "    for feature in existing_features:\n",
    "        print(f\" -> {feature}\")\n",
    "\n",
    "print(f\"\\nTOTAL NEW FEATURES CREATED: {total_features}\")\n",
    "print(f\" -> Original columns: 27\")\n",
    "print(f\" -> New Columns: {len(df.columns) - 27}\")\n",
    "print(f\" -> Total Columns: {len(df.columns)}\")"
   ]
  },
  {
   "cell_type": "markdown",
   "id": "08cdf2fb",
   "metadata": {},
   "source": [
    "DATA QUALITY CHECK"
   ]
  },
  {
   "cell_type": "code",
   "execution_count": 40,
   "id": "90e15af2",
   "metadata": {},
   "outputs": [
    {
     "name": "stdout",
     "output_type": "stream",
     "text": [
      "Rows: 50,304\n",
      "Columns: 42\n",
      "\n",
      "MISSING VALUES CHECK: \n",
      "Found missing values: \n",
      " -> lat: 4\n",
      " -> long: 4\n",
      "\n",
      "DUPLICATED CHECK: \n",
      "no duplicate rows found\n",
      "\n",
      "DATA TYPE CHECK: \n",
      " -> float64: 14 columns\n",
      " -> object: 13 columns\n",
      " -> int32: 5 columns\n",
      " -> bool: 2 columns\n",
      " -> int64: 2 columns\n",
      " -> category: 2 columns\n",
      " -> datetime64[ns]: 1 columns\n",
      " -> UInt32: 1 columns\n",
      " -> category: 1 columns\n",
      " -> category: 1 columns\n"
     ]
    }
   ],
   "source": [
    "print(f\"Rows: {len(df):,}\")\n",
    "print(f\"Columns: {len(df.columns)}\")\n",
    "\n",
    "print(\"\\nMISSING VALUES CHECK: \")\n",
    "missing_cols = df.isnull().sum()\n",
    "missing_cols = missing_cols[missing_cols > 0]\n",
    "\n",
    "if len(missing_cols) ==0:\n",
    "    print(\"NO MISSING VALUES FOUND\")\n",
    "else:\n",
    "    print(\"Found missing values: \")\n",
    "    for col , count in missing_cols.items():\n",
    "        print(f\" -> {col}: {count}\")\n",
    "\n",
    "print(\"\\nDUPLICATED CHECK: \")\n",
    "dupes=df.duplicated().sum()\n",
    "if dupes==0:\n",
    "    print(\"no duplicate rows found\")\n",
    "else:\n",
    "    print(f\" -> {dupes} duplicate rows\")\n",
    "\n",
    "\n",
    "print(\"\\nDATA TYPE CHECK: \")\n",
    "dtype_summary=df.dtypes.value_counts()\n",
    "for dtype, count in dtype_summary.items():\n",
    "    print(f\" -> {dtype}: {count} columns\")"
   ]
  },
  {
   "cell_type": "markdown",
   "id": "1e9d353c",
   "metadata": {},
   "source": [
    "FEATURES DISTRIBUTION SUMMARY"
   ]
  },
  {
   "cell_type": "code",
   "execution_count": 41,
   "id": "d67932cd",
   "metadata": {},
   "outputs": [
    {
     "name": "stdout",
     "output_type": "stream",
     "text": [
      "\n",
      "TIME FEATURES: \n",
      " -> Years covered: 13 (2012 - 2025)\n",
      " -> Months: [10  5 11  6  7 12  8  4  9  3  1  2]\n",
      " -> Seasons: ['Fall' 'Summer' 'Winter']\n",
      " -> Day distribution:\n",
      "day_name\n",
      "Friday        5969\n",
      "Monday        8850\n",
      "Saturday      7144\n",
      "Sunday       13668\n",
      "Thursday      4805\n",
      "Tuesday       5225\n",
      "Wednesday     4643\n",
      "Name: count, dtype: int64\n"
     ]
    }
   ],
   "source": [
    "print(\"\\nTIME FEATURES: \")\n",
    "print(f\" -> Years covered: {df['year'].nunique()} ({df['year'].min()} - {df['year'].max()})\")\n",
    "print(f\" -> Months: {df['month'].unique()}\")\n",
    "print(f\" -> Seasons: {df['season'].unique()}\")\n",
    "print(f\" -> Day distribution:\\n{df['day_name'].value_counts().sort_index()}\")"
   ]
  },
  {
   "cell_type": "code",
   "execution_count": 42,
   "id": "a6c40c62",
   "metadata": {},
   "outputs": [
    {
     "name": "stdout",
     "output_type": "stream",
     "text": [
      "\n",
      "DEMAND LEVELS: \n",
      "demand_level\n",
      "Low          10111\n",
      "Medium       10114\n",
      "High         10014\n",
      "Very High    20065\n",
      "Name: count, dtype: int64\n"
     ]
    }
   ],
   "source": [
    "print(\"\\nDEMAND LEVELS: \")\n",
    "print(df['demand_level'].value_counts().sort_index())"
   ]
  },
  {
   "cell_type": "code",
   "execution_count": 43,
   "id": "98276c8b",
   "metadata": {},
   "outputs": [
    {
     "name": "stdout",
     "output_type": "stream",
     "text": [
      "\n",
      "PRICE TIERS: \n",
      "price_tier\n",
      "Budget       12580\n",
      "Mid-Range    12607\n",
      "Upscale      12563\n",
      "Luxury       12554\n",
      "Name: count, dtype: int64\n"
     ]
    }
   ],
   "source": [
    "print(\"\\nPRICE TIERS: \")\n",
    "print(df['price_tier'].value_counts().sort_index())"
   ]
  },
  {
   "cell_type": "code",
   "execution_count": 44,
   "id": "8a950ce4",
   "metadata": {},
   "outputs": [
    {
     "name": "stdout",
     "output_type": "stream",
     "text": [
      "\n",
      "BOOKING TYPES: \n",
      "stay_length_category\n",
      "Weekly       29503\n",
      "Nightly      12459\n",
      "Monthly       7664\n",
      "Long-term      678\n",
      "Name: count, dtype: int64\n"
     ]
    }
   ],
   "source": [
    "print(\"\\nBOOKING TYPES: \")\n",
    "print(df['stay_length_category'].value_counts())"
   ]
  },
  {
   "cell_type": "code",
   "execution_count": 45,
   "id": "deeacaf7",
   "metadata": {},
   "outputs": [
    {
     "name": "stdout",
     "output_type": "stream",
     "text": [
      "\n",
      "VALUE CATEGORIES:\n",
      "value_category\n",
      "Low Value          17920\n",
      "Good Value         15930\n",
      "Excellent Value    16454\n",
      "Name: count, dtype: int64\n"
     ]
    }
   ],
   "source": [
    "print(\"\\nVALUE CATEGORIES:\")\n",
    "print(df['value_category'].value_counts().sort_index())\n"
   ]
  },
  {
   "cell_type": "markdown",
   "id": "21bdd434",
   "metadata": {},
   "source": [
    "CORRELATION ANALYSIS PREVIEW"
   ]
  },
  {
   "cell_type": "code",
   "execution_count": 46,
   "id": "2f3721d0",
   "metadata": {},
   "outputs": [
    {
     "name": "stdout",
     "output_type": "stream",
     "text": [
      "\n",
      "CORRELATION WITH REVIEWS_PER_MONTH (Demand Proxy): \n",
      " ⬆️ demand_score: 0.833 (Strong)\n",
      " ⬆️ value_score: 0.562 (Strong)\n",
      " ⬆️ flexibility_score: 0.310 (Strong)\n",
      " ⬆️ availability_365: 0.078 (Weak)\n",
      " ⬆️ price: 0.004 (Weak)\n",
      " ⬇️ minimum_nights: -0.188 (Moderate)\n"
     ]
    }
   ],
   "source": [
    "# SELECT NUMERIC COLUMNS FOR CORRELATION\n",
    "numeric_cols_for_corr = ['price', 'minimum_nights', 'availability_365', \n",
    "                         'reviews_per_month', 'demand_score', 'flexibility_score', \n",
    "                         'value_score']\n",
    "\n",
    "# CREATE CORRELATION MATRIX\n",
    "corr_with_demand = df[numeric_cols_for_corr].corr()['reviews_per_month'].sort_values(ascending=False)\n",
    "\n",
    "print(\"\\nCORRELATION WITH REVIEWS_PER_MONTH (Demand Proxy): \")\n",
    "for feature, corr in corr_with_demand.items():\n",
    "    if feature != 'reviews_per_month':\n",
    "        strength = 'Strong' if abs(corr) > 0.3 else 'Moderate' if abs(corr) > 0.1 else 'Weak'\n",
    "        direction = '⬆️' if corr>0 else '⬇️'\n",
    "        print(f\" {direction} {feature}: {corr:.3f} ({strength})\")"
   ]
  },
  {
   "cell_type": "markdown",
   "id": "aa5238af",
   "metadata": {},
   "source": [
    "1. demand_score - (strong)  \n",
    "2. value_score - (strong) high demand\n",
    "3. flexibility_score - (strong) flexible stays = more bookings\n",
    "4. availability_365 - (moderate) more available = slightly more reviews\n",
    "5. price - (none) price doesnt matter\n",
    "6.  minimum_nights - (moderated negetive) Longer stays = fewer bookings"
   ]
  },
  {
   "cell_type": "code",
   "execution_count": 47,
   "id": "cdc1dddc",
   "metadata": {},
   "outputs": [
    {
     "name": "stdout",
     "output_type": "stream",
     "text": [
      "\n",
      "INTERPRETATION:\n",
      "   ↑ = Positive correlation (increases demand)\n",
      "   ↓ = Negative correlation (decreases demand)\n",
      "   • Strong (>0.3): Major influence\n",
      "   • Moderate (0.1-0.3): Some influence\n",
      "   • Weak (<0.1): Little influence\n"
     ]
    }
   ],
   "source": [
    "print(\"\\nINTERPRETATION:\")\n",
    "print(\"   ↑ = Positive correlation (increases demand)\")\n",
    "print(\"   ↓ = Negative correlation (decreases demand)\")\n",
    "print(\"   • Strong (>0.3): Major influence\")\n",
    "print(\"   • Moderate (0.1-0.3): Some influence\")\n",
    "print(\"   • Weak (<0.1): Little influence\")"
   ]
  },
  {
   "cell_type": "markdown",
   "id": "351077ca",
   "metadata": {},
   "source": [
    "##### **SUMMARY**"
   ]
  },
  {
   "cell_type": "code",
   "execution_count": 48,
   "id": "7e41b60e",
   "metadata": {},
   "outputs": [
    {
     "name": "stdout",
     "output_type": "stream",
     "text": [
      "\n",
      "================================================================================\n",
      "EATURE ENGINEERING COMPLETE!\n",
      "================================================================================\n",
      "\n",
      "SUMMARY OF ENGINEERED FEATURES:\n",
      "\n",
      "-> Time-Based Features (8):\n",
      "   - Extracted from last_review: year, month, quarter, day_of_week\n",
      "   - Day names and week numbers\n",
      "   - Peak season flags\n",
      "\n",
      "-> Seasonality Indicators (1):\n",
      "   - Season categories (Winter/Spring/Summer/Fall)\n",
      "\n",
      "-> Demand Indicators (4):\n",
      "   - Review frequency categories (Low/Medium/High/Very High)\n",
      "   - Availability categories \n",
      "   - Demand score (0-100)\n",
      "   - Demand level\n",
      "\n",
      "-> Price Features (3):\n",
      "   - Price tiers (Budget/Mid-Range/Upscale/Luxury)\n",
      "   - Value score (reviews per $100)\n",
      "   - Value categories\n",
      "\n",
      "-> Booking Pattern Features (2):\n",
      "   - Stay length categories (Nightly/Weekly/Monthly/Long-term)\n",
      "   - Flexibility score (1-10)\n",
      "\n",
      "-> DATASET READY FOR:\n",
      "   ✓ Exploratory Data Analysis (EDA)\n",
      "   ✓ Seasonality visualization\n",
      "   ✓ Time series decomposition\n",
      "   ✓ Demand pattern analysis\n",
      "   ✓ Predictive modeling (if needed)\n",
      "\n",
      "================================================================================\n"
     ]
    }
   ],
   "source": [
    "print(\"\\n\" + \"=\" * 80)\n",
    "print(\"EATURE ENGINEERING COMPLETE!\")\n",
    "print(\"=\" * 80)\n",
    "\n",
    "print(f\"\"\"\n",
    "SUMMARY OF ENGINEERED FEATURES:\n",
    "\n",
    "-> Time-Based Features (8):\n",
    "   - Extracted from last_review: year, month, quarter, day_of_week\n",
    "   - Day names and week numbers\n",
    "   - Peak season flags\n",
    "\n",
    "-> Seasonality Indicators (1):\n",
    "   - Season categories (Winter/Spring/Summer/Fall)\n",
    "\n",
    "-> Demand Indicators (4):\n",
    "   - Review frequency categories (Low/Medium/High/Very High)\n",
    "   - Availability categories \n",
    "   - Demand score (0-100)\n",
    "   - Demand level\n",
    "\n",
    "-> Price Features (3):\n",
    "   - Price tiers (Budget/Mid-Range/Upscale/Luxury)\n",
    "   - Value score (reviews per $100)\n",
    "   - Value categories\n",
    "\n",
    "-> Booking Pattern Features (2):\n",
    "   - Stay length categories (Nightly/Weekly/Monthly/Long-term)\n",
    "   - Flexibility score (1-10)\n",
    "\n",
    "-> DATASET READY FOR:\n",
    "   ✓ Exploratory Data Analysis (EDA)\n",
    "   ✓ Seasonality visualization\n",
    "   ✓ Time series decomposition\n",
    "   ✓ Demand pattern analysis\n",
    "   ✓ Predictive modeling (if needed)\n",
    "\"\"\")\n",
    "\n",
    "print(\"=\" * 80)\n"
   ]
  },
  {
   "cell_type": "markdown",
   "id": "eea06723",
   "metadata": {},
   "source": [
    "SAVE THE DATASET"
   ]
  },
  {
   "cell_type": "code",
   "execution_count": 49,
   "id": "fd72d463",
   "metadata": {},
   "outputs": [],
   "source": [
    "output_path = '/Users/starboy/Documents/Projects/Airbnb/engineered_data_for_eda.csv'\n",
    "df.to_csv(output_path,index=False)"
   ]
  }
 ],
 "metadata": {
  "kernelspec": {
   "display_name": "base",
   "language": "python",
   "name": "python3"
  },
  "language_info": {
   "codemirror_mode": {
    "name": "ipython",
    "version": 3
   },
   "file_extension": ".py",
   "mimetype": "text/x-python",
   "name": "python",
   "nbconvert_exporter": "python",
   "pygments_lexer": "ipython3",
   "version": "3.13.5"
  }
 },
 "nbformat": 4,
 "nbformat_minor": 5
}
